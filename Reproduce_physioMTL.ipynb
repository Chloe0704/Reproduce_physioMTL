{
  "cells": [
    {
      "cell_type": "markdown",
      "metadata": {
        "id": "view-in-github",
        "colab_type": "text"
      },
      "source": [
        "<a href=\"https://colab.research.google.com/github/Chloe0704/Reproduce_physioMTL/blob/main/Reproduce_physioMTL.ipynb\" target=\"_parent\"><img src=\"https://colab.research.google.com/assets/colab-badge.svg\" alt=\"Open In Colab\"/></a>"
      ]
    },
    {
      "cell_type": "code",
      "execution_count": 13,
      "metadata": {
        "colab": {
          "base_uri": "https://localhost:8080/"
        },
        "id": "83__0z92spGo",
        "outputId": "0821672e-0213-4983-be0d-afc90540a129"
      },
      "outputs": [
        {
          "output_type": "stream",
          "name": "stdout",
          "text": [
            "Cloning into 'mutar'...\n",
            "remote: Enumerating objects: 916, done.\u001b[K\n",
            "remote: Counting objects: 100% (17/17), done.\u001b[K\n",
            "remote: Compressing objects: 100% (10/10), done.\u001b[K\n",
            "remote: Total 916 (delta 8), reused 16 (delta 7), pack-reused 899 (from 1)\u001b[K\n",
            "Receiving objects: 100% (916/916), 1.72 MiB | 13.35 MiB/s, done.\n",
            "Resolving deltas: 100% (495/495), done.\n",
            "/content/mutar\n",
            "Obtaining file:///content/mutar\n",
            "  Preparing metadata (setup.py) ... \u001b[?25l\u001b[?25hdone\n",
            "Requirement already satisfied: numpy in /usr/local/lib/python3.11/dist-packages (from mutar==0.0.1) (2.0.2)\n",
            "Requirement already satisfied: scikit-learn in /usr/local/lib/python3.11/dist-packages (from mutar==0.0.1) (1.6.1)\n",
            "Requirement already satisfied: numba>=0.40.1 in /usr/local/lib/python3.11/dist-packages (from mutar==0.0.1) (0.60.0)\n",
            "Requirement already satisfied: llvmlite<0.44,>=0.43.0dev0 in /usr/local/lib/python3.11/dist-packages (from numba>=0.40.1->mutar==0.0.1) (0.43.0)\n",
            "Requirement already satisfied: scipy>=1.6.0 in /usr/local/lib/python3.11/dist-packages (from scikit-learn->mutar==0.0.1) (1.15.2)\n",
            "Requirement already satisfied: joblib>=1.2.0 in /usr/local/lib/python3.11/dist-packages (from scikit-learn->mutar==0.0.1) (1.4.2)\n",
            "Requirement already satisfied: threadpoolctl>=3.1.0 in /usr/local/lib/python3.11/dist-packages (from scikit-learn->mutar==0.0.1) (3.6.0)\n",
            "Installing collected packages: mutar\n",
            "  Running setup.py develop for mutar\n",
            "Successfully installed mutar-0.0.1\n",
            "/content\n",
            "Collecting pot\n",
            "  Downloading POT-0.9.5-cp311-cp311-manylinux_2_17_x86_64.manylinux2014_x86_64.whl.metadata (34 kB)\n",
            "Requirement already satisfied: numpy>=1.16 in /usr/local/lib/python3.11/dist-packages (from pot) (2.0.2)\n",
            "Requirement already satisfied: scipy>=1.6 in /usr/local/lib/python3.11/dist-packages (from pot) (1.15.2)\n",
            "Downloading POT-0.9.5-cp311-cp311-manylinux_2_17_x86_64.manylinux2014_x86_64.whl (897 kB)\n",
            "\u001b[2K   \u001b[90m━━━━━━━━━━━━━━━━━━━━━━━━━━━━━━━━━━━━━━━━\u001b[0m \u001b[32m897.5/897.5 kB\u001b[0m \u001b[31m13.6 MB/s\u001b[0m eta \u001b[36m0:00:00\u001b[0m\n",
            "\u001b[?25hInstalling collected packages: pot\n",
            "Successfully installed pot-0.9.5\n",
            "Collecting hwcounter\n",
            "  Downloading hwcounter-0.1.1.tar.gz (4.1 kB)\n",
            "  Preparing metadata (setup.py) ... \u001b[?25l\u001b[?25hdone\n",
            "Building wheels for collected packages: hwcounter\n",
            "  Building wheel for hwcounter (setup.py) ... \u001b[?25l\u001b[?25hdone\n",
            "  Created wheel for hwcounter: filename=hwcounter-0.1.1-cp311-cp311-linux_x86_64.whl size=11845 sha256=4bf57c5d197a64ae88d71ebad12ae77bc08e7c0fbefc86f22f8278581ff78038\n",
            "  Stored in directory: /root/.cache/pip/wheels/17/90/05/59b45e247f09430a406292de15430e53c83dc934e68a0a2fc3\n",
            "Successfully built hwcounter\n",
            "Installing collected packages: hwcounter\n",
            "Successfully installed hwcounter-0.1.1\n"
          ]
        }
      ],
      "source": [
        "!git clone https://github.com/hichamjanati/mutar\n",
        "%cd mutar\n",
        "!pip install -e .\n",
        "%cd /content\n",
        "\n",
        "%pip install pot\n",
        "%pip install hwcounter\n",
        "\n",
        "import site\n",
        "site.main()\n"
      ]
    },
    {
      "cell_type": "code",
      "execution_count": 88,
      "metadata": {
        "id": "5u1TJHOwtEzD"
      },
      "outputs": [],
      "source": [
        "# Evaluation of computational requirements, hardware logging, etc.\n",
        "import platform\n",
        "import socket\n",
        "import re\n",
        "import uuid\n",
        "import json\n",
        "import psutil\n",
        "import logging\n",
        "\n",
        "# Regression methods\n",
        "import zipfile\n",
        "import numpy as np\n",
        "import pandas as pd\n",
        "import ot\n",
        "import matplotlib.cm as cm\n",
        "import random\n",
        "import mutar\n",
        "from mutar import GroupLasso, DirtyModel, MTW, MultiLevelLasso, ReMTW\n",
        "from hwcounter import Timer, count, count_end\n",
        "from scipy import stats\n",
        "from matplotlib import pyplot as plt\n",
        "from matplotlib.lines import Line2D\n",
        "from sklearn.utils import shuffle\n",
        "import matplotlib.pyplot as plt\n",
        "import seaborn as sns\n",
        "from pandas.plotting import table"
      ]
    },
    {
      "cell_type": "code",
      "execution_count": 22,
      "metadata": {
        "colab": {
          "base_uri": "https://localhost:8080/"
        },
        "id": "FMkBIf-PtFA1",
        "outputId": "16eaae89-e65e-4f05-e144-20e0b87bcadd"
      },
      "outputs": [
        {
          "output_type": "stream",
          "name": "stdout",
          "text": [
            "{'Platform': 'Linux', 'Architecture': 'x86_64', 'Processor': 'x86_64', 'RAM': '12.674 GB', 'CPU Cores (Physical)': 1, 'CPU Cores (Total)': 2, 'Memory (Total)': '12.67GB', 'Memory (Available)': '11.23GB', 'Memory (Used)': '1.15GB', 'Memory Utilization': '11.4%'}\n"
          ]
        }
      ],
      "source": [
        "def get_size(bytes):\n",
        "    bucket = 1024\n",
        "    for unit in [\"\", \"K\", \"M\", \"G\", \"T\", \"P\"]:\n",
        "        if bytes < bucket:\n",
        "            return f\"{bytes:.2f}{unit}B\"\n",
        "        bytes /= bucket\n",
        "\n",
        "def get_memory_utilization():\n",
        "    svmem = psutil.virtual_memory()\n",
        "    return {\n",
        "        'Memory (Total)': f'{get_size(svmem.total)}',\n",
        "        'Memory (Available)': f'{get_size(svmem.available)}',\n",
        "        'Memory (Used)': f'{get_size(svmem.used)}',\n",
        "        'Memory Utilization': f'{svmem.percent}%'\n",
        "    }\n",
        "\n",
        "def get_system_info():\n",
        "    svmem = psutil.virtual_memory()\n",
        "    return {\n",
        "        'Platform': platform.system(),\n",
        "        'Architecture': platform.machine(),\n",
        "        'Processor': platform.processor(),\n",
        "        'RAM': f'{round(psutil.virtual_memory().total / (1024 ** 3), 3)} GB',\n",
        "        'CPU Cores (Physical)': psutil.cpu_count(logical=False),\n",
        "        'CPU Cores (Total)': psutil.cpu_count(logical=True)\n",
        "    } | get_memory_utilization()\n",
        "\n",
        "def get_cpu_seconds(cycles):\n",
        "    return cycles / psutil.cpu_count(logical=True) / 1000000000\n",
        "\n",
        "print(get_system_info())"
      ]
    },
    {
      "cell_type": "markdown",
      "metadata": {
        "id": "FhZgUr2PtQtP"
      },
      "source": [
        "# MMASH"
      ]
    },
    {
      "cell_type": "code",
      "source": [],
      "metadata": {
        "id": "0R7jwFGQadxk"
      },
      "execution_count": 22,
      "outputs": []
    },
    {
      "cell_type": "code",
      "execution_count": 23,
      "metadata": {
        "colab": {
          "base_uri": "https://localhost:8080/",
          "height": 1000
        },
        "id": "gcsBAdvAtFFc",
        "outputId": "cdf43fe6-6f3d-401b-ddb2-95c42eb177a8",
        "collapsed": true
      },
      "outputs": [
        {
          "output_type": "stream",
          "name": "stdout",
          "text": [
            "WARNING: combining -O with -r or -p will mean that all downloaded content\n",
            "will be placed in the single file you specified.\n",
            "\n",
            "WARNING: timestamping does nothing in combination with -O. See the manual\n",
            "for details.\n",
            "\n",
            "--2025-05-05 03:39:45--  https://physionet.org/files/mmash/1.0.0/MMASH.zip\n",
            "Resolving physionet.org (physionet.org)... 18.18.42.54\n",
            "Connecting to physionet.org (physionet.org)|18.18.42.54|:443... failed: Connection timed out.\n",
            "Retrying.\n",
            "\n",
            "--2025-05-05 03:41:56--  (try: 2)  https://physionet.org/files/mmash/1.0.0/MMASH.zip\n",
            "Connecting to physionet.org (physionet.org)|18.18.42.54|:443... failed: Connection timed out.\n",
            "Retrying.\n",
            "\n",
            "--2025-05-05 03:44:08--  (try: 3)  https://physionet.org/files/mmash/1.0.0/MMASH.zip\n",
            "Connecting to physionet.org (physionet.org)|18.18.42.54|:443... failed: Connection timed out.\n",
            "Retrying.\n",
            "\n",
            "--2025-05-05 03:46:20--  (try: 4)  https://physionet.org/files/mmash/1.0.0/MMASH.zip\n",
            "Connecting to physionet.org (physionet.org)|18.18.42.54|:443... failed: Connection timed out.\n",
            "Retrying.\n",
            "\n",
            "--2025-05-05 03:48:37--  (try: 5)  https://physionet.org/files/mmash/1.0.0/MMASH.zip\n",
            "Connecting to physionet.org (physionet.org)|18.18.42.54|:443... failed: Connection timed out.\n",
            "Retrying.\n",
            "\n",
            "--2025-05-05 03:50:53--  (try: 6)  https://physionet.org/files/mmash/1.0.0/MMASH.zip\n",
            "Connecting to physionet.org (physionet.org)|18.18.42.54|:443... failed: Connection timed out.\n",
            "Retrying.\n",
            "\n",
            "--2025-05-05 03:53:09--  (try: 7)  https://physionet.org/files/mmash/1.0.0/MMASH.zip\n",
            "Connecting to physionet.org (physionet.org)|18.18.42.54|:443... failed: Connection timed out.\n",
            "Retrying.\n",
            "\n",
            "--2025-05-05 03:55:25--  (try: 8)  https://physionet.org/files/mmash/1.0.0/MMASH.zip\n",
            "Connecting to physionet.org (physionet.org)|18.18.42.54|:443... failed: Connection timed out.\n",
            "Retrying.\n",
            "\n",
            "--2025-05-05 03:57:45--  (try: 9)  https://physionet.org/files/mmash/1.0.0/MMASH.zip\n",
            "Connecting to physionet.org (physionet.org)|18.18.42.54|:443... failed: Connection timed out.\n",
            "Retrying.\n",
            "\n",
            "--2025-05-05 04:00:06--  (try:10)  https://physionet.org/files/mmash/1.0.0/MMASH.zip\n",
            "Connecting to physionet.org (physionet.org)|18.18.42.54|:443... ^C\n"
          ]
        },
        {
          "output_type": "error",
          "ename": "BadZipFile",
          "evalue": "File is not a zip file",
          "traceback": [
            "\u001b[0;31m---------------------------------------------------------------------------\u001b[0m",
            "\u001b[0;31mBadZipFile\u001b[0m                                Traceback (most recent call last)",
            "\u001b[0;32m<ipython-input-23-18f89cd038c3>\u001b[0m in \u001b[0;36m<cell line: 0>\u001b[0;34m()\u001b[0m\n\u001b[1;32m      4\u001b[0m \u001b[0mget_ipython\u001b[0m\u001b[0;34m(\u001b[0m\u001b[0;34m)\u001b[0m\u001b[0;34m.\u001b[0m\u001b[0msystem\u001b[0m\u001b[0;34m(\u001b[0m\u001b[0;34m'wget -O MMASH/mmash.zip -r -N -c -np https://physionet.org/files/mmash/1.0.0/MMASH.zip'\u001b[0m\u001b[0;34m)\u001b[0m\u001b[0;34m\u001b[0m\u001b[0;34m\u001b[0m\u001b[0m\n\u001b[1;32m      5\u001b[0m \u001b[0;34m\u001b[0m\u001b[0m\n\u001b[0;32m----> 6\u001b[0;31m \u001b[0;32mwith\u001b[0m \u001b[0mzipfile\u001b[0m\u001b[0;34m.\u001b[0m\u001b[0mZipFile\u001b[0m\u001b[0;34m(\u001b[0m\u001b[0;34m'MMASH/mmash.zip'\u001b[0m\u001b[0;34m,\u001b[0m \u001b[0;34m'r'\u001b[0m\u001b[0;34m)\u001b[0m \u001b[0;32mas\u001b[0m \u001b[0mzip_ref\u001b[0m\u001b[0;34m:\u001b[0m\u001b[0;34m\u001b[0m\u001b[0;34m\u001b[0m\u001b[0m\n\u001b[0m\u001b[1;32m      7\u001b[0m   \u001b[0mzip_ref\u001b[0m\u001b[0;34m.\u001b[0m\u001b[0mextractall\u001b[0m\u001b[0;34m(\u001b[0m\u001b[0;34m'MMASH'\u001b[0m\u001b[0;34m)\u001b[0m\u001b[0;34m\u001b[0m\u001b[0;34m\u001b[0m\u001b[0m\n\u001b[1;32m      8\u001b[0m \u001b[0;34m\u001b[0m\u001b[0m\n",
            "\u001b[0;32m/usr/lib/python3.11/zipfile.py\u001b[0m in \u001b[0;36m__init__\u001b[0;34m(self, file, mode, compression, allowZip64, compresslevel, strict_timestamps, metadata_encoding)\u001b[0m\n\u001b[1;32m   1311\u001b[0m         \u001b[0;32mtry\u001b[0m\u001b[0;34m:\u001b[0m\u001b[0;34m\u001b[0m\u001b[0;34m\u001b[0m\u001b[0m\n\u001b[1;32m   1312\u001b[0m             \u001b[0;32mif\u001b[0m \u001b[0mmode\u001b[0m \u001b[0;34m==\u001b[0m \u001b[0;34m'r'\u001b[0m\u001b[0;34m:\u001b[0m\u001b[0;34m\u001b[0m\u001b[0;34m\u001b[0m\u001b[0m\n\u001b[0;32m-> 1313\u001b[0;31m                 \u001b[0mself\u001b[0m\u001b[0;34m.\u001b[0m\u001b[0m_RealGetContents\u001b[0m\u001b[0;34m(\u001b[0m\u001b[0;34m)\u001b[0m\u001b[0;34m\u001b[0m\u001b[0;34m\u001b[0m\u001b[0m\n\u001b[0m\u001b[1;32m   1314\u001b[0m             \u001b[0;32melif\u001b[0m \u001b[0mmode\u001b[0m \u001b[0;32min\u001b[0m \u001b[0;34m(\u001b[0m\u001b[0;34m'w'\u001b[0m\u001b[0;34m,\u001b[0m \u001b[0;34m'x'\u001b[0m\u001b[0;34m)\u001b[0m\u001b[0;34m:\u001b[0m\u001b[0;34m\u001b[0m\u001b[0;34m\u001b[0m\u001b[0m\n\u001b[1;32m   1315\u001b[0m                 \u001b[0;31m# set the modified flag so central directory gets written\u001b[0m\u001b[0;34m\u001b[0m\u001b[0;34m\u001b[0m\u001b[0m\n",
            "\u001b[0;32m/usr/lib/python3.11/zipfile.py\u001b[0m in \u001b[0;36m_RealGetContents\u001b[0;34m(self)\u001b[0m\n\u001b[1;32m   1378\u001b[0m             \u001b[0;32mraise\u001b[0m \u001b[0mBadZipFile\u001b[0m\u001b[0;34m(\u001b[0m\u001b[0;34m\"File is not a zip file\"\u001b[0m\u001b[0;34m)\u001b[0m\u001b[0;34m\u001b[0m\u001b[0;34m\u001b[0m\u001b[0m\n\u001b[1;32m   1379\u001b[0m         \u001b[0;32mif\u001b[0m \u001b[0;32mnot\u001b[0m \u001b[0mendrec\u001b[0m\u001b[0;34m:\u001b[0m\u001b[0;34m\u001b[0m\u001b[0;34m\u001b[0m\u001b[0m\n\u001b[0;32m-> 1380\u001b[0;31m             \u001b[0;32mraise\u001b[0m \u001b[0mBadZipFile\u001b[0m\u001b[0;34m(\u001b[0m\u001b[0;34m\"File is not a zip file\"\u001b[0m\u001b[0;34m)\u001b[0m\u001b[0;34m\u001b[0m\u001b[0;34m\u001b[0m\u001b[0m\n\u001b[0m\u001b[1;32m   1381\u001b[0m         \u001b[0;32mif\u001b[0m \u001b[0mself\u001b[0m\u001b[0;34m.\u001b[0m\u001b[0mdebug\u001b[0m \u001b[0;34m>\u001b[0m \u001b[0;36m1\u001b[0m\u001b[0;34m:\u001b[0m\u001b[0;34m\u001b[0m\u001b[0;34m\u001b[0m\u001b[0m\n\u001b[1;32m   1382\u001b[0m             \u001b[0mprint\u001b[0m\u001b[0;34m(\u001b[0m\u001b[0mendrec\u001b[0m\u001b[0;34m)\u001b[0m\u001b[0;34m\u001b[0m\u001b[0;34m\u001b[0m\u001b[0m\n",
            "\u001b[0;31mBadZipFile\u001b[0m: File is not a zip file"
          ]
        }
      ],
      "source": [
        "!mkdir MMASH\n",
        "!mkdir Data\n",
        "!mkdir Data/figures\n",
        "!wget -O MMASH/mmash.zip -r -N -c -np https://physionet.org/files/mmash/1.0.0/MMASH.zip\n",
        "\n",
        "with zipfile.ZipFile('MMASH/mmash.zip', 'r') as zip_ref:\n",
        "  zip_ref.extractall('MMASH')\n",
        "\n",
        "!rm MMASH/mmash.zip"
      ]
    },
    {
      "cell_type": "code",
      "source": [],
      "metadata": {
        "id": "3dgW2mx-e1nB"
      },
      "execution_count": null,
      "outputs": []
    },
    {
      "cell_type": "markdown",
      "source": [
        "## Alternative way of getting the data"
      ],
      "metadata": {
        "id": "Qqrsjezje3SW"
      }
    },
    {
      "cell_type": "code",
      "source": [
        "import pickle\n",
        "pkl_file_name = \"public_data_for_MTL.pkl\"\n",
        "\n",
        "file_open = open(pkl_file_name, \"rb\")\n",
        "data_dict = pickle.load(file_open)\n",
        "file_open.close()\n"
      ],
      "metadata": {
        "id": "0ypKCoXmaZbv"
      },
      "execution_count": 15,
      "outputs": []
    },
    {
      "cell_type": "code",
      "source": [
        "human_feq = 2.0 * np.pi / 24\n",
        "subject_id_list = []\n",
        "removed_subject_id_list = [4]\n",
        "\n",
        "def get_raw_list_from_public_data_custom(data_dict_input, removed_list=removed_subject_id_list):\n",
        "    key_list = list(data_dict_input.keys())\n",
        "    t_raw_list = []\n",
        "    X_raw_list = []\n",
        "    S_raw_list = []\n",
        "    Y_raw_list = []\n",
        "    for key in key_list:\n",
        "        if key in removed_list:  # 2: non-pattern, 10, 11, non-pattern?\n",
        "            continue\n",
        "        t_np, y_np, s_vec = data_dict_input[key]\n",
        "        sample_num = t_np.shape[0]\n",
        "        x_raw = np.asarray([np.sin(human_feq * t_np),\n",
        "                            np.cos(human_feq * t_np),\n",
        "                            np.ones(sample_num, )]).T\n",
        "\n",
        "        # Notice: Naive imputation methods\n",
        "        if key == 18:  # user_18 don't have age data\n",
        "            s_vec[0] = 22\n",
        "        if key == 11:  # User_11 does not have sleep data\n",
        "            s_vec[4] = 6.5  # I use the average\n",
        "        if key == 3:\n",
        "            s_vec[5] = 60\n",
        "\n",
        "        t_raw_list.append(t_np)\n",
        "        X_raw_list.append(x_raw)\n",
        "        S_raw_list.append(s_vec)\n",
        "        Y_raw_list.append(y_np)\n",
        "        # break\n",
        "        subject_id_list.append(key)\n",
        "    return t_raw_list, X_raw_list, S_raw_list, Y_raw_list, subject_id_list\n",
        "def process_for_PhysioMTL_pubdata(raw_t_list, raw_x_list, raw_s_list, raw_y_list):\n",
        "    X_train_list = []\n",
        "    S_train_list = []\n",
        "    Y_train_list = []\n",
        "\n",
        "    for task_i, s_vec in enumerate(raw_s_list):\n",
        "\n",
        "        # Notice: X_vec: (30, 3) -> (30, 3)\n",
        "        X_train_list.append(raw_x_list[task_i])\n",
        "        # Notice: Y_vec: (30, ) -> (30, 1)\n",
        "        Y_train_list.append(raw_y_list[task_i].reshape((-1, 1)))\n",
        "\n",
        "        # Notice:! S:    (6,) -> [s_0, s_1,...,s_5, 1].T  (7, 1)\n",
        "        S_train_vec = np.hstack([s_vec, 1]).reshape(-1, 1)\n",
        "        # print(\"S_train_vec.shape =\", S_train_vec)\n",
        "        S_train_list.append(S_train_vec)\n",
        "\n",
        "    return raw_t_list, X_train_list, S_train_list, Y_train_list\n",
        "\n",
        "# Notice: process data\n",
        "t_raw_list, X_raw_list, S_raw_list, Y_raw_list, subject_id_test_list = get_raw_list_from_public_data_custom(\n",
        "    data_dict)\n",
        "\n",
        "t_list, X_train_list, S_train_list, Y_train_list = process_for_PhysioMTL_pubdata(raw_t_list=t_raw_list,\n",
        "                                                                                  raw_x_list=X_raw_list,\n",
        "                                                                                  raw_s_list=S_raw_list,\n",
        "                                                                                  raw_y_list=Y_raw_list)"
      ],
      "metadata": {
        "id": "HZlPO2iteT7B"
      },
      "execution_count": 89,
      "outputs": []
    },
    {
      "cell_type": "code",
      "source": [
        "len(S_train_list)"
      ],
      "metadata": {
        "colab": {
          "base_uri": "https://localhost:8080/"
        },
        "id": "xas1qZKQxvyS",
        "outputId": "29aba994-fb57-4cab-b20e-2779da8847ac"
      },
      "execution_count": 90,
      "outputs": [
        {
          "output_type": "execute_result",
          "data": {
            "text/plain": [
              "21"
            ]
          },
          "metadata": {},
          "execution_count": 90
        }
      ]
    },
    {
      "cell_type": "code",
      "source": [
        "S_train_list[0][0][0]"
      ],
      "metadata": {
        "colab": {
          "base_uri": "https://localhost:8080/"
        },
        "id": "hY9B6b30t6Zl",
        "outputId": "2f093e01-e69f-495b-fc61-42ae17093fbf"
      },
      "execution_count": 91,
      "outputs": [
        {
          "output_type": "execute_result",
          "data": {
            "text/plain": [
              "np.float64(29.0)"
            ]
          },
          "metadata": {},
          "execution_count": 91
        }
      ]
    },
    {
      "cell_type": "code",
      "source": [
        "class MMASH:\n",
        "    def __init__(self, t_list, X_train_list, S_train_list, Y_train_list , tasks, max_zscore, max_noise=NOISE_UPPER, show_plots=True):\n",
        "        self.t_list = t_list\n",
        "        self.max_zscore = max_zscore\n",
        "        if self.max_zscore is None:\n",
        "            self.max_zscore = 999999\n",
        "        self.max_noise = max_noise\n",
        "        self.X, self.S, self.Y = [], [], []\n",
        "        self.start_processing_cycles = count()\n",
        "        self.show_plots = show_plots\n",
        "\n",
        "        # Data collection for combined visualization\n",
        "        self.all_sleep_data = []\n",
        "        self.all_activity_data = []\n",
        "        self.all_user_info = []\n",
        "        self.all_questionnaire = []\n",
        "        self.all_rr_data = []\n",
        "        self.processed_rr_data = []\n",
        "\n",
        "        for i in tasks:\n",
        "            i_start = count()\n",
        "            # user_folder = USER_FILE_PREFIX + str(i)\n",
        "\n",
        "            # Load all data\n",
        "            sleep_data = pd.DataFrame({\"Total Minutes in Bed\": S_train_list[i][4]})\n",
        "            activity_data = pd.DataFrame({\"Activity\": S_train_list[i][3]})\n",
        "            user_info_data = pd.DataFrame({\"Age\":S_train_list[i][0], \"Height\":S_train_list[i][1], \"Weight\":S_train_list[i][2]})\n",
        "            questionnaire_data = pd.DataFrame({\"Daily_stress\": S_train_list[i][5]})\n",
        "            # rr_data = pd.DataFrame({\"value\": Y_train_list[i].reshape(1,-1,1),\"t_hour\": t_list[i].reshape(1,-1,1)})\n",
        "\n",
        "            # Store raw data for combined visualization\n",
        "            sleep_data['user'] = i\n",
        "            activity_data['user'] = i\n",
        "            user_info_data['user'] = i\n",
        "            questionnaire_data['user'] = i\n",
        "            # rr_data['user'] = i\n",
        "\n",
        "            self.all_sleep_data.append(sleep_data)\n",
        "            self.all_activity_data.append(activity_data)\n",
        "            self.all_user_info.append(user_info_data)\n",
        "            self.all_questionnaire.append(questionnaire_data)\n",
        "            # self.all_rr_data.append(rr_data)\n",
        "\n",
        "            # Process data\n",
        "            sleep_value = S_train_list[i][4] #self.get_sleep_data(sleep_data)\n",
        "            activity_value = S_train_list[i][3] #self.get_activity_data(activity_data)\n",
        "            user_info_value = [S_train_list[i][0][0], S_train_list[i][1][0], S_train_list[i][2][0]] #self.get_user_info_data(user_info_data)\n",
        "            questionnaire_value = S_train_list[i][5] #self.get_questionnaire_data(questionnaire_data)\n",
        "            rr_value = Y_train_list[i] #self.get_rr_data(rr_data)\n",
        "            # self.processed_rr_data.append(rr_value.assign(user=i))\n",
        "\n",
        "            t_hour = t_list[i] #rr_value[\"t_hour\"].values\n",
        "            print(f'user_info_value {user_info_value}')\n",
        "            print(f'activity_value {activity_value}')\n",
        "            print(f'sleep_value {sleep_value}')\n",
        "            print(f'questionnaire_value {questionnaire_value}')\n",
        "\n",
        "            s_vector = np.hstack([user_info_value, activity_value, sleep_value, questionnaire_value])\n",
        "            if i in OVERWRITES:\n",
        "                s_vector[OVERWRITES[i][0]] = OVERWRITES[i][1]\n",
        "\n",
        "            self.X.append(X_train_list[i])\n",
        "            self.S.append(s_vector.reshape(-1, 1))\n",
        "            self.Y.append(Y_train_list[i].reshape((-1, 1)))\n",
        "\n",
        "            i_cycles = count_end() - i_start\n",
        "            print(f'{i}: preprocessed task, y-mean = {rr_value.mean()}, elapsed time: {i_cycles} cycles ({get_cpu_seconds(i_cycles)} seconds)')\n",
        "\n",
        "        self.X = np.asarray(self.X, dtype=object)\n",
        "        self.S = np.asarray(self.S)\n",
        "        self.Y = np.asarray(self.Y, dtype=object)\n",
        "        self.elapsed_processing_cycles = count_end() - self.start_processing_cycles\n",
        "\n",
        "        # Combine all data for visualization\n",
        "        if self.show_plots and tasks:\n",
        "            self.combined_sleep = pd.concat(self.all_sleep_data)\n",
        "            self.combined_activity = pd.concat(self.all_activity_data)\n",
        "            self.combined_user_info = pd.concat(self.all_user_info)\n",
        "            self.combined_questionnaire = pd.concat(self.all_questionnaire)\n",
        "\n",
        "            self.visualize_combined_data()\n",
        "\n",
        "        print(f'finished processing mmash data set, elapsed cycles: {self.elapsed_processing_cycles} cycles ({get_cpu_seconds(self.elapsed_processing_cycles)} seconds)')\n",
        "\n",
        "    def visualize_combined_data(self):\n",
        "        \"\"\"Visualize all tasks' data in combined charts\"\"\"\n",
        "        plt.figure(figsize=(18, 12))\n",
        "        plt.suptitle('Combined Data Visualization for All Tasks', y=1.02)\n",
        "\n",
        "        # Sleep Data - Boxplot by user\n",
        "        plt.subplot(2, 3, 1)\n",
        "        sns.boxplot(data=self.combined_sleep, x='user', y='Total Minutes in Bed')\n",
        "        plt.title('Sleep Minutes in Bed by User')\n",
        "        plt.xlabel('User ID')\n",
        "        plt.ylabel('Minutes')\n",
        "\n",
        "        # User Info Data - Table\n",
        "        plt.subplot(2, 3, 3)\n",
        "        ax = plt.gca()\n",
        "        ax.axis('off')\n",
        "        user_info_summary = self.combined_user_info.groupby('user').first()[USER_INFO_FIELDS]\n",
        "        tbl = table(ax, user_info_summary, loc='center', cellLoc='center')\n",
        "        tbl.auto_set_font_size(False)\n",
        "        tbl.set_fontsize(10)\n",
        "        tbl.scale(1.2, 1.2)\n",
        "        plt.title('User Information Summary')\n",
        "\n",
        "        # Questionnaire Data - Boxplot\n",
        "        plt.subplot(2, 3, 4)\n",
        "        sns.boxplot(data=self.combined_questionnaire, x='user', y='Daily_stress')\n",
        "        plt.title('Daily Stress by User')\n",
        "        plt.xlabel('User ID')\n",
        "        plt.ylabel('Stress Level')\n",
        "\n"
      ],
      "metadata": {
        "id": "7VwK_r-zjgzq"
      },
      "execution_count": 94,
      "outputs": []
    },
    {
      "cell_type": "code",
      "source": [
        "# tasks = [i for i in TASKS if i not in OMIT_TASKS]\n",
        "TASKS = range(0, 21)\n",
        "tasks = [i for i in TASKS]\n",
        "mmash = MMASH(t_list, X_train_list, S_train_list, Y_train_list ,tasks, max_zscore=2.5)"
      ],
      "metadata": {
        "colab": {
          "base_uri": "https://localhost:8080/",
          "height": 1000
        },
        "id": "_Wzf3UAitAuI",
        "outputId": "82113ad5-9050-4421-fe1d-85ad39616d97"
      },
      "execution_count": 95,
      "outputs": [
        {
          "output_type": "stream",
          "name": "stdout",
          "text": [
            "user_info_value [np.float64(29.0), np.float64(1.69), np.float64(65.0)]\n",
            "activity_value [0.33333333]\n",
            "sleep_value [6.3]\n",
            "questionnaire_value [23.]\n",
            "0: preprocessed task, y-mean = 85.64290473544865, elapsed time: 9177515 cycles (0.0045887575 seconds)\n",
            "user_info_value [np.float64(27.0), np.float64(1.83), np.float64(95.0)]\n",
            "activity_value [0.28333333]\n",
            "sleep_value [5.53333333]\n",
            "questionnaire_value [26.]\n",
            "1: preprocessed task, y-mean = 100.23327140236228, elapsed time: 13396130 cycles (0.006698065 seconds)\n",
            "user_info_value [np.float64(34.0), np.float64(1.74), np.float64(70.0)]\n",
            "activity_value [1.25]\n",
            "sleep_value [7.38333333]\n",
            "questionnaire_value [60.]\n",
            "2: preprocessed task, y-mean = 75.95231985922159, elapsed time: 6099512 cycles (0.003049756 seconds)\n",
            "user_info_value [np.float64(25.0), np.float64(1.96), np.float64(80.0)]\n",
            "activity_value [0.]\n",
            "sleep_value [6.76666667]\n",
            "questionnaire_value [41.]\n",
            "3: preprocessed task, y-mean = 90.32012800480388, elapsed time: 6792962 cycles (0.003396481 seconds)\n",
            "user_info_value [np.float64(27.0), np.float64(1.78), np.float64(62.0)]\n",
            "activity_value [0.25]\n",
            "sleep_value [6.58333333]\n",
            "questionnaire_value [41.]\n",
            "4: preprocessed task, y-mean = 88.30222928821918, elapsed time: 7715777 cycles (0.0038578885 seconds)\n",
            "user_info_value [np.float64(25.0), np.float64(1.83), np.float64(65.0)]\n",
            "activity_value [0.]\n",
            "sleep_value [7.56666667]\n",
            "questionnaire_value [69.]\n",
            "5: preprocessed task, y-mean = 84.63426084419278, elapsed time: 5785707 cycles (0.0028928535 seconds)\n",
            "user_info_value [np.float64(40.0), np.float64(1.84), np.float64(74.0)]\n",
            "activity_value [1.25]\n",
            "sleep_value [6.93333333]\n",
            "questionnaire_value [74.]\n",
            "6: preprocessed task, y-mean = 95.85220693480616, elapsed time: 5632036 cycles (0.002816018 seconds)\n",
            "user_info_value [np.float64(20.0), np.float64(1.75), np.float64(70.0)]\n",
            "activity_value [1.]\n",
            "sleep_value [10.5]\n",
            "questionnaire_value [38.]\n",
            "7: preprocessed task, y-mean = 88.64027616731701, elapsed time: 6340472 cycles (0.003170236 seconds)\n",
            "user_info_value [np.float64(27.0), np.float64(1.8), np.float64(85.0)]\n",
            "activity_value [0.66666667]\n",
            "sleep_value [5.48333333]\n",
            "questionnaire_value [14.]\n",
            "8: preprocessed task, y-mean = 96.65400499141691, elapsed time: 6065041 cycles (0.0030325205 seconds)\n",
            "user_info_value [np.float64(27.0), np.float64(1.86), np.float64(115.0)]\n",
            "activity_value [0.]\n",
            "sleep_value [6.5]\n",
            "questionnaire_value [17.]\n",
            "9: preprocessed task, y-mean = 87.42886610261098, elapsed time: 5531656 cycles (0.002765828 seconds)\n",
            "user_info_value [np.float64(27.0), np.float64(1.7), np.float64(67.0)]\n",
            "activity_value [0.66666667]\n",
            "sleep_value [6.06666667]\n",
            "questionnaire_value [48.]\n",
            "10: preprocessed task, y-mean = 72.09499204666345, elapsed time: 5991143 cycles (0.0029955715 seconds)\n",
            "user_info_value [np.float64(25.0), np.float64(1.8), np.float64(74.0)]\n",
            "activity_value [0.]\n",
            "sleep_value [5.38333333]\n",
            "questionnaire_value [27.]\n",
            "11: preprocessed task, y-mean = 75.1479683883182, elapsed time: 5633469 cycles (0.0028167345 seconds)\n",
            "user_info_value [np.float64(27.0), np.float64(1.71), np.float64(64.0)]\n",
            "activity_value [0.]\n",
            "sleep_value [6.86666667]\n",
            "questionnaire_value [26.]\n",
            "12: preprocessed task, y-mean = 72.52075858669505, elapsed time: 5593886 cycles (0.002796943 seconds)\n",
            "user_info_value [np.float64(24.0), np.float64(1.8), np.float64(80.0)]\n",
            "activity_value [2.]\n",
            "sleep_value [4.4]\n",
            "questionnaire_value [35.]\n",
            "13: preprocessed task, y-mean = 89.91048041678792, elapsed time: 6096639 cycles (0.0030483195 seconds)\n",
            "user_info_value [np.float64(27.0), np.float64(1.76), np.float64(67.0)]\n",
            "activity_value [0.]\n",
            "sleep_value [7.6]\n",
            "questionnaire_value [32.]\n",
            "14: preprocessed task, y-mean = 90.57779245839525, elapsed time: 5493151 cycles (0.0027465755 seconds)\n",
            "user_info_value [np.float64(24.0), np.float64(1.75), np.float64(60.0)]\n",
            "activity_value [1.16666667]\n",
            "sleep_value [5.86666667]\n",
            "questionnaire_value [20.]\n",
            "15: preprocessed task, y-mean = 84.56009565840299, elapsed time: 5859079 cycles (0.0029295395 seconds)\n",
            "user_info_value [np.float64(22.0), np.float64(1.8), np.float64(80.0)]\n",
            "activity_value [0.]\n",
            "sleep_value [5.96666667]\n",
            "questionnaire_value [32.]\n",
            "16: preprocessed task, y-mean = 97.44747200826552, elapsed time: 5388197 cycles (0.0026940985 seconds)\n",
            "user_info_value [np.float64(22.0), np.float64(1.83), np.float64(70.0)]\n",
            "activity_value [0.]\n",
            "sleep_value [7.65]\n",
            "questionnaire_value [31.]\n",
            "17: preprocessed task, y-mean = 93.38408174704385, elapsed time: 5560278 cycles (0.002780139 seconds)\n",
            "user_info_value [np.float64(29.0), np.float64(1.75), np.float64(70.0)]\n",
            "activity_value [0.25]\n",
            "sleep_value [7.26666667]\n",
            "questionnaire_value [22.]\n",
            "18: preprocessed task, y-mean = 80.9613680145196, elapsed time: 5861790 cycles (0.002930895 seconds)\n",
            "user_info_value [np.float64(28.0), np.float64(1.75), np.float64(70.0)]\n",
            "activity_value [0.]\n",
            "sleep_value [4.95]\n",
            "questionnaire_value [30.]\n",
            "19: preprocessed task, y-mean = 77.28665217095713, elapsed time: 5588672 cycles (0.002794336 seconds)\n",
            "user_info_value [np.float64(32.0), np.float64(2.05), np.float64(92.0)]\n",
            "activity_value [0.]\n",
            "sleep_value [5.96666667]\n",
            "questionnaire_value [41.]\n",
            "20: preprocessed task, y-mean = 83.07492063642594, elapsed time: 5530320 cycles (0.00276516 seconds)\n",
            "finished processing mmash data set, elapsed cycles: 140042254 cycles (0.070021127 seconds)\n"
          ]
        },
        {
          "output_type": "display_data",
          "data": {
            "text/plain": [
              "<Figure size 1800x1200 with 3 Axes>"
            ],
            "image/png": "[encoded data removed]"
          },
          "metadata": {}
        }
      ]
    },
    {
      "cell_type": "markdown",
      "metadata": {
        "id": "8yurAGX0tVHA"
      },
      "source": [
        "## Preprocess MMASH\n"
      ]
    },
    {
      "cell_type": "code",
      "execution_count": 40,
      "metadata": {
        "id": "0rWp274MtFIn"
      },
      "outputs": [],
      "source": [
        "# Scripting constants\n",
        "BASELINE_DATES = {1: \"2020-08-01\", 2: \"2020-08-02\"}\n",
        "RANDOM_STATE = 12345\n",
        "USER_FILE_PREFIX = \"/content/MMASH/DataPaper/user_\"\n",
        "TASKS = range(1, 23)\n",
        "\n",
        "# Data set variables\n",
        "RELEVANT_ACTIVITY = [4, 5]\n",
        "USER_INFO_FIELDS = [\"Age\", \"Height\", \"Weight\"]\n",
        "OMIT_TASKS = [4,]\n",
        "OVERWRITES = {3: [5,60], 11: [4,6.5], 18: [0,22]}\n",
        "RAD_HOUR = 2.0 * np.pi / 24\n",
        "\n",
        "# Pre-processing hyperparameters\n",
        "IBIS_UPPER = 2.1\n",
        "IBIS_LOWER = 0.3\n",
        "FREQUENCY = \"5min\"\n",
        "NOISE_UPPER = 55.0\n",
        "NOISE_SAMPLE_PERCENT = 0.85"
      ]
    },
    {
      "cell_type": "code",
      "source": [
        "import matplotlib.pyplot as plt\n",
        "import seaborn as sns\n",
        "from pandas.plotting import table"
      ],
      "metadata": {
        "id": "1dDGHp1Kv__m"
      },
      "execution_count": 11,
      "outputs": []
    },
    {
      "cell_type": "code",
      "execution_count": 12,
      "metadata": {
        "id": "26F1xj50tZpp"
      },
      "outputs": [],
      "source": [
        "class MMASH:\n",
        "    def __init__(self, tasks, max_zscore, max_noise=NOISE_UPPER, show_plots=True):\n",
        "        self.max_zscore = max_zscore\n",
        "        if self.max_zscore is None:\n",
        "            self.max_zscore = 999999\n",
        "        self.max_noise = max_noise\n",
        "        self.X, self.S, self.Y = [], [], []\n",
        "        self.start_processing_cycles = count()\n",
        "        self.show_plots = show_plots\n",
        "\n",
        "        # Data collection for combined visualization\n",
        "        self.all_sleep_data = []\n",
        "        self.all_activity_data = []\n",
        "        self.all_user_info = []\n",
        "        self.all_questionnaire = []\n",
        "        self.all_rr_data = []\n",
        "        self.processed_rr_data = []\n",
        "\n",
        "        for i in tasks:\n",
        "            i_start = count()\n",
        "            user_folder = USER_FILE_PREFIX + str(i)\n",
        "\n",
        "            # Load all data\n",
        "            sleep_data = pd.read_csv(user_folder + \"/sleep.csv\")\n",
        "            activity_data = pd.read_csv(user_folder + \"/Activity.csv\", header=0)\n",
        "            user_info_data = pd.read_csv(user_folder + \"/user_info.csv\", header=0)\n",
        "            questionnaire_data = pd.read_csv(user_folder + \"/questionnaire.csv\", header=0)\n",
        "            rr_data = pd.read_csv(user_folder + \"/RR.csv\", header=0)\n",
        "\n",
        "            # Store raw data for combined visualization\n",
        "            sleep_data['user'] = i\n",
        "            activity_data['user'] = i\n",
        "            user_info_data['user'] = i\n",
        "            questionnaire_data['user'] = i\n",
        "            rr_data['user'] = i\n",
        "\n",
        "            self.all_sleep_data.append(sleep_data)\n",
        "            self.all_activity_data.append(activity_data)\n",
        "            self.all_user_info.append(user_info_data)\n",
        "            self.all_questionnaire.append(questionnaire_data)\n",
        "            self.all_rr_data.append(rr_data)\n",
        "\n",
        "            # Process data\n",
        "            sleep_value = self.get_sleep_data(sleep_data)\n",
        "            activity_value = self.get_activity_data(activity_data)\n",
        "            user_info_value = self.get_user_info_data(user_info_data)\n",
        "            questionnaire_value = self.get_questionnaire_data(questionnaire_data)\n",
        "            rr_value = self.get_rr_data(rr_data)\n",
        "            self.processed_rr_data.append(rr_value.assign(user=i))\n",
        "\n",
        "            t_hour = rr_value[\"t_hour\"].values\n",
        "            s_vector = np.hstack([user_info_value, activity_value, sleep_value, questionnaire_value])\n",
        "            if i in OVERWRITES:\n",
        "                s_vector[OVERWRITES[i][0]] = OVERWRITES[i][1]\n",
        "\n",
        "            self.X.append(np.asarray([np.sin(RAD_HOUR * t_hour), np.cos(RAD_HOUR * t_hour), np.ones(t_hour.shape[0], )]).T)\n",
        "            self.S.append(s_vector.reshape(-1, 1))\n",
        "            self.Y.append(rr_value[\"value\"].values.reshape((-1, 1)))\n",
        "\n",
        "            i_cycles = count_end() - i_start\n",
        "            print(f'{i}: preprocessed task, y-mean = {rr_value[\"value\"].mean()}, elapsed time: {i_cycles} cycles ({get_cpu_seconds(i_cycles)} seconds)')\n",
        "\n",
        "        self.X = np.asarray(self.X, dtype=object)\n",
        "        self.S = np.asarray(self.S)\n",
        "        self.Y = np.asarray(self.Y, dtype=object)\n",
        "        self.elapsed_processing_cycles = count_end() - self.start_processing_cycles\n",
        "\n",
        "        # Combine all data for visualization\n",
        "        if self.show_plots and tasks:\n",
        "            self.combined_sleep = pd.concat(self.all_sleep_data)\n",
        "            self.combined_activity = pd.concat(self.all_activity_data)\n",
        "            self.combined_user_info = pd.concat(self.all_user_info)\n",
        "            self.combined_questionnaire = pd.concat(self.all_questionnaire)\n",
        "            self.combined_rr = pd.concat(self.all_rr_data)\n",
        "            self.combined_processed_rr = pd.concat(self.processed_rr_data)\n",
        "\n",
        "            self.visualize_combined_data()\n",
        "\n",
        "        print(f'finished processing mmash data set, elapsed cycles: {self.elapsed_processing_cycles} cycles ({get_cpu_seconds(self.elapsed_processing_cycles)} seconds)')\n",
        "\n",
        "    def visualize_combined_data(self):\n",
        "        \"\"\"Visualize all tasks' data in combined charts\"\"\"\n",
        "        plt.figure(figsize=(18, 12))\n",
        "        plt.suptitle('Combined Data Visualization for All Tasks', y=1.02)\n",
        "\n",
        "        # Sleep Data - Boxplot by user\n",
        "        plt.subplot(2, 3, 1)\n",
        "        sns.boxplot(data=self.combined_sleep, x='user', y='Total Minutes in Bed')\n",
        "        plt.title('Sleep Minutes in Bed by User')\n",
        "        plt.xlabel('User ID')\n",
        "        plt.ylabel('Minutes')\n",
        "\n",
        "        # Activity Data - Stacked bar chart\n",
        "        plt.subplot(2, 3, 2)\n",
        "        activity_counts = self.combined_activity.groupby(['user', 'Activity']).size().unstack()\n",
        "        activity_counts.plot(kind='bar', stacked=True, ax=plt.gca())\n",
        "        plt.title('Activity Distribution by User')\n",
        "        plt.xlabel('User ID')\n",
        "        plt.ylabel('Count')\n",
        "        plt.legend(title='Activity', bbox_to_anchor=(1.05, 1), loc='upper left')\n",
        "\n",
        "        # User Info Data - Table\n",
        "        plt.subplot(2, 3, 3)\n",
        "        ax = plt.gca()\n",
        "        ax.axis('off')\n",
        "        user_info_summary = self.combined_user_info.groupby('user').first()[USER_INFO_FIELDS]\n",
        "        tbl = table(ax, user_info_summary, loc='center', cellLoc='center')\n",
        "        tbl.auto_set_font_size(False)\n",
        "        tbl.set_fontsize(10)\n",
        "        tbl.scale(1.2, 1.2)\n",
        "        plt.title('User Information Summary')\n",
        "\n",
        "        # Questionnaire Data - Boxplot\n",
        "        plt.subplot(2, 3, 4)\n",
        "        sns.boxplot(data=self.combined_questionnaire, x='user', y='Daily_stress')\n",
        "        plt.title('Daily Stress by User')\n",
        "        plt.xlabel('User ID')\n",
        "        plt.ylabel('Stress Level')\n",
        "\n",
        "        # RR Data - IBI Distribution\n",
        "        plt.subplot(2, 3, 5)\n",
        "        for user, group in self.combined_rr.groupby('user'):\n",
        "            sns.kdeplot(group['ibi_s'].dropna(), label=f'User {user}')\n",
        "        plt.title('IBI Distribution by User')\n",
        "        plt.xlabel('IBI (seconds)')\n",
        "        plt.legend()\n",
        "\n",
        "        # RR Data - Time Series\n",
        "        plt.subplot(2, 3, 6)\n",
        "        for user, group in self.combined_rr.groupby('user'):\n",
        "            plt.plot(group['ibi_s'].values, label=f'User {user}')\n",
        "        plt.title('IBI Time Series')\n",
        "        plt.xlabel('Sample Index')\n",
        "        plt.ylabel('IBI (seconds)')\n",
        "        plt.legend()\n",
        "\n",
        "        plt.tight_layout()\n",
        "        plt.show()\n",
        "\n",
        "        # Processed RR data visualization\n",
        "        plt.figure(figsize=(15, 6))\n",
        "\n",
        "        plt.subplot(1, 2, 1)\n",
        "        sns.boxplot(data=self.combined_processed_rr, x='user', y='value')\n",
        "        plt.title('Processed RR Values by User')\n",
        "        plt.xlabel('User ID')\n",
        "        plt.ylabel('RR Value')\n",
        "\n",
        "        plt.subplot(1, 2, 2)\n",
        "        for user, group in self.combined_processed_rr.groupby('user'):\n",
        "            plt.plot(group[\"t_hour\"], group[\"value\"], 'o-', label=f'User {user}')\n",
        "        plt.title('Processed RR Values Over Time')\n",
        "        plt.xlabel('Time (hours)')\n",
        "        plt.ylabel('RR Value')\n",
        "        plt.legend()\n",
        "\n",
        "        plt.tight_layout()\n",
        "        plt.show()\n",
        "\n",
        "    def visualize_processed_rr_data(self, rr_value):\n",
        "        \"\"\"Visualize the processed RR data\"\"\"\n",
        "        plt.figure(figsize=(15, 5))\n",
        "\n",
        "        plt.subplot(1, 2, 1)\n",
        "        rr_value[\"value\"].plot(kind='hist', bins=30)\n",
        "        plt.title('Distribution of Processed RR Values')\n",
        "        plt.xlabel('RR Value')\n",
        "\n",
        "        plt.subplot(1, 2, 2)\n",
        "        plt.plot(rr_value[\"t_hour\"], rr_value[\"value\"], 'o-')\n",
        "        plt.title('Processed RR Values Over Time')\n",
        "        plt.xlabel('Time (hours)')\n",
        "        plt.ylabel('RR Value')\n",
        "\n",
        "        plt.tight_layout()\n",
        "        plt.show()\n",
        "\n",
        "    def get_sleep_data(self, data):\n",
        "        return data[\"Total Minutes in Bed\"].sum() / 60\n",
        "\n",
        "    def get_activity_data(self, data):\n",
        "        data = data.copy().dropna()\n",
        "        activity = lambda x: pd.to_timedelta(x[\"End\"] + \":00\") - pd.to_timedelta(x[\"Start\"] + \":00\")\n",
        "        data[\"time_start_pd\"] = data.apply(activity, axis=1)\n",
        "        data[\"time_end_pd\"] = data.apply(activity, axis=1)\n",
        "        data[\"time_last_hour\"] = data[\"time_end_pd\"].apply(lambda x: x.seconds / 3600)\n",
        "        data = data.loc[data[\"Activity\"].isin(RELEVANT_ACTIVITY)]\n",
        "        return data[\"time_last_hour\"].sum() if not data.empty else 0\n",
        "\n",
        "    def get_user_info_data(self, data):\n",
        "        data = data[USER_INFO_FIELDS].loc[0].values\n",
        "        return [data[0], data[1] / 100.0, data[2]]\n",
        "\n",
        "    def get_questionnaire_data(self, data):\n",
        "        return data[\"Daily_stress\"].loc[0]\n",
        "\n",
        "    def get_rr_data(self, data):\n",
        "        data[\"new_time\"] = data.apply(lambda ds: pd.to_datetime(BASELINE_DATES.get(ds[\"day\"], BASELINE_DATES[2]) + \" \" + str(ds[\"time\"])), axis=1)\n",
        "        data['ibi_s'] = [x if x < IBIS_UPPER and x > IBIS_LOWER else np.nan for x in data['ibi_s']]\n",
        "        data = [w for _, w in data.dropna().groupby(pd.Grouper(key='new_time', freq=FREQUENCY)) if not w.empty]\n",
        "        print(\"-----------------------------------\")\n",
        "        # display(data)\n",
        "        rr_value = pd.DataFrame({\n",
        "            \"new_time\": [x[\"new_time\"].mean() for x in data],\n",
        "            \"value\": [np.std(1000 * x[\"ibi_s\"], ddof=1) for x in data]\n",
        "        })\n",
        "        # print(\"###################################\")\n",
        "        # display(rr_value)\n",
        "        no_noise = rr_value[\"value\"] < self.max_noise\n",
        "        no_noise = rr_value[no_noise].sample(int(NOISE_SAMPLE_PERCENT * no_noise.sum()), random_state=RANDOM_STATE)\n",
        "        rr_value = rr_value.drop(no_noise.index)\n",
        "        rr_value = rr_value.loc[np.abs(stats.zscore(rr_value[\"value\"])) < self.max_zscore]\n",
        "        rr_value = rr_value.loc[rr_value[\"value\"] > 12]\n",
        "        rr_value[\"t_hour\"] = rr_value[\"new_time\"].apply(lambda x: (x - pd.Timestamp(BASELINE_DATES[1] + \" 00:00:00\")).total_seconds() / 3600)\n",
        "        # print(\"###################################\")\n",
        "        # print(f\"Task: RR intervals = {len(rr_value)}\")\n",
        "        # display(rr_value)\n",
        "        return rr_value\n"
      ]
    },
    {
      "cell_type": "code",
      "execution_count": 13,
      "metadata": {
        "colab": {
          "base_uri": "https://localhost:8080/",
          "height": 365
        },
        "collapsed": true,
        "id": "z-mPWy7OtZsM",
        "outputId": "ce39220d-39ce-4381-85db-f5063e7cf448"
      },
      "outputs": [
        {
          "output_type": "error",
          "ename": "FileNotFoundError",
          "evalue": "[Errno 2] No such file or directory: '/content/MMASH/DataPaper/user_1/sleep.csv'",
          "traceback": [
            "\u001b[0;31m---------------------------------------------------------------------------\u001b[0m",
            "\u001b[0;31mFileNotFoundError\u001b[0m                         Traceback (most recent call last)",
            "\u001b[0;32m<ipython-input-13-ea2096e5a909>\u001b[0m in \u001b[0;36m<cell line: 0>\u001b[0;34m()\u001b[0m\n\u001b[1;32m      1\u001b[0m \u001b[0;31m# tasks = [i for i in TASKS if i not in OMIT_TASKS]\u001b[0m\u001b[0;34m\u001b[0m\u001b[0;34m\u001b[0m\u001b[0m\n\u001b[1;32m      2\u001b[0m \u001b[0mtasks\u001b[0m \u001b[0;34m=\u001b[0m \u001b[0;34m[\u001b[0m\u001b[0mi\u001b[0m \u001b[0;32mfor\u001b[0m \u001b[0mi\u001b[0m \u001b[0;32min\u001b[0m \u001b[0mTASKS\u001b[0m\u001b[0;34m]\u001b[0m\u001b[0;34m\u001b[0m\u001b[0;34m\u001b[0m\u001b[0m\n\u001b[0;32m----> 3\u001b[0;31m \u001b[0mmmash\u001b[0m \u001b[0;34m=\u001b[0m \u001b[0mMMASH\u001b[0m\u001b[0;34m(\u001b[0m\u001b[0mtasks\u001b[0m\u001b[0;34m,\u001b[0m \u001b[0mmax_zscore\u001b[0m\u001b[0;34m=\u001b[0m\u001b[0;36m2.5\u001b[0m\u001b[0;34m)\u001b[0m\u001b[0;34m\u001b[0m\u001b[0;34m\u001b[0m\u001b[0m\n\u001b[0m",
            "\u001b[0;32m<ipython-input-12-5ee7f2752c29>\u001b[0m in \u001b[0;36m__init__\u001b[0;34m(self, tasks, max_zscore, max_noise, show_plots)\u001b[0m\n\u001b[1;32m     22\u001b[0m \u001b[0;34m\u001b[0m\u001b[0m\n\u001b[1;32m     23\u001b[0m             \u001b[0;31m# Load all data\u001b[0m\u001b[0;34m\u001b[0m\u001b[0;34m\u001b[0m\u001b[0m\n\u001b[0;32m---> 24\u001b[0;31m             \u001b[0msleep_data\u001b[0m \u001b[0;34m=\u001b[0m \u001b[0mpd\u001b[0m\u001b[0;34m.\u001b[0m\u001b[0mread_csv\u001b[0m\u001b[0;34m(\u001b[0m\u001b[0muser_folder\u001b[0m \u001b[0;34m+\u001b[0m \u001b[0;34m\"/sleep.csv\"\u001b[0m\u001b[0;34m)\u001b[0m\u001b[0;34m\u001b[0m\u001b[0;34m\u001b[0m\u001b[0m\n\u001b[0m\u001b[1;32m     25\u001b[0m             \u001b[0mactivity_data\u001b[0m \u001b[0;34m=\u001b[0m \u001b[0mpd\u001b[0m\u001b[0;34m.\u001b[0m\u001b[0mread_csv\u001b[0m\u001b[0;34m(\u001b[0m\u001b[0muser_folder\u001b[0m \u001b[0;34m+\u001b[0m \u001b[0;34m\"/Activity.csv\"\u001b[0m\u001b[0;34m,\u001b[0m \u001b[0mheader\u001b[0m\u001b[0;34m=\u001b[0m\u001b[0;36m0\u001b[0m\u001b[0;34m)\u001b[0m\u001b[0;34m\u001b[0m\u001b[0;34m\u001b[0m\u001b[0m\n\u001b[1;32m     26\u001b[0m             \u001b[0muser_info_data\u001b[0m \u001b[0;34m=\u001b[0m \u001b[0mpd\u001b[0m\u001b[0;34m.\u001b[0m\u001b[0mread_csv\u001b[0m\u001b[0;34m(\u001b[0m\u001b[0muser_folder\u001b[0m \u001b[0;34m+\u001b[0m \u001b[0;34m\"/user_info.csv\"\u001b[0m\u001b[0;34m,\u001b[0m \u001b[0mheader\u001b[0m\u001b[0;34m=\u001b[0m\u001b[0;36m0\u001b[0m\u001b[0;34m)\u001b[0m\u001b[0;34m\u001b[0m\u001b[0;34m\u001b[0m\u001b[0m\n",
            "\u001b[0;32m/usr/local/lib/python3.11/dist-packages/pandas/io/parsers/readers.py\u001b[0m in \u001b[0;36mread_csv\u001b[0;34m(filepath_or_buffer, sep, delimiter, header, names, index_col, usecols, dtype, engine, converters, true_values, false_values, skipinitialspace, skiprows, skipfooter, nrows, na_values, keep_default_na, na_filter, verbose, skip_blank_lines, parse_dates, infer_datetime_format, keep_date_col, date_parser, date_format, dayfirst, cache_dates, iterator, chunksize, compression, thousands, decimal, lineterminator, quotechar, quoting, doublequote, escapechar, comment, encoding, encoding_errors, dialect, on_bad_lines, delim_whitespace, low_memory, memory_map, float_precision, storage_options, dtype_backend)\u001b[0m\n\u001b[1;32m   1024\u001b[0m     \u001b[0mkwds\u001b[0m\u001b[0;34m.\u001b[0m\u001b[0mupdate\u001b[0m\u001b[0;34m(\u001b[0m\u001b[0mkwds_defaults\u001b[0m\u001b[0;34m)\u001b[0m\u001b[0;34m\u001b[0m\u001b[0;34m\u001b[0m\u001b[0m\n\u001b[1;32m   1025\u001b[0m \u001b[0;34m\u001b[0m\u001b[0m\n\u001b[0;32m-> 1026\u001b[0;31m     \u001b[0;32mreturn\u001b[0m \u001b[0m_read\u001b[0m\u001b[0;34m(\u001b[0m\u001b[0mfilepath_or_buffer\u001b[0m\u001b[0;34m,\u001b[0m \u001b[0mkwds\u001b[0m\u001b[0;34m)\u001b[0m\u001b[0;34m\u001b[0m\u001b[0;34m\u001b[0m\u001b[0m\n\u001b[0m\u001b[1;32m   1027\u001b[0m \u001b[0;34m\u001b[0m\u001b[0m\n\u001b[1;32m   1028\u001b[0m \u001b[0;34m\u001b[0m\u001b[0m\n",
            "\u001b[0;32m/usr/local/lib/python3.11/dist-packages/pandas/io/parsers/readers.py\u001b[0m in \u001b[0;36m_read\u001b[0;34m(filepath_or_buffer, kwds)\u001b[0m\n\u001b[1;32m    618\u001b[0m \u001b[0;34m\u001b[0m\u001b[0m\n\u001b[1;32m    619\u001b[0m     \u001b[0;31m# Create the parser.\u001b[0m\u001b[0;34m\u001b[0m\u001b[0;34m\u001b[0m\u001b[0m\n\u001b[0;32m--> 620\u001b[0;31m     \u001b[0mparser\u001b[0m \u001b[0;34m=\u001b[0m \u001b[0mTextFileReader\u001b[0m\u001b[0;34m(\u001b[0m\u001b[0mfilepath_or_buffer\u001b[0m\u001b[0;34m,\u001b[0m \u001b[0;34m**\u001b[0m\u001b[0mkwds\u001b[0m\u001b[0;34m)\u001b[0m\u001b[0;34m\u001b[0m\u001b[0;34m\u001b[0m\u001b[0m\n\u001b[0m\u001b[1;32m    621\u001b[0m \u001b[0;34m\u001b[0m\u001b[0m\n\u001b[1;32m    622\u001b[0m     \u001b[0;32mif\u001b[0m \u001b[0mchunksize\u001b[0m \u001b[0;32mor\u001b[0m \u001b[0miterator\u001b[0m\u001b[0;34m:\u001b[0m\u001b[0;34m\u001b[0m\u001b[0;34m\u001b[0m\u001b[0m\n",
            "\u001b[0;32m/usr/local/lib/python3.11/dist-packages/pandas/io/parsers/readers.py\u001b[0m in \u001b[0;36m__init__\u001b[0;34m(self, f, engine, **kwds)\u001b[0m\n\u001b[1;32m   1618\u001b[0m \u001b[0;34m\u001b[0m\u001b[0m\n\u001b[1;32m   1619\u001b[0m         \u001b[0mself\u001b[0m\u001b[0;34m.\u001b[0m\u001b[0mhandles\u001b[0m\u001b[0;34m:\u001b[0m \u001b[0mIOHandles\u001b[0m \u001b[0;34m|\u001b[0m \u001b[0;32mNone\u001b[0m \u001b[0;34m=\u001b[0m \u001b[0;32mNone\u001b[0m\u001b[0;34m\u001b[0m\u001b[0;34m\u001b[0m\u001b[0m\n\u001b[0;32m-> 1620\u001b[0;31m         \u001b[0mself\u001b[0m\u001b[0;34m.\u001b[0m\u001b[0m_engine\u001b[0m \u001b[0;34m=\u001b[0m \u001b[0mself\u001b[0m\u001b[0;34m.\u001b[0m\u001b[0m_make_engine\u001b[0m\u001b[0;34m(\u001b[0m\u001b[0mf\u001b[0m\u001b[0;34m,\u001b[0m \u001b[0mself\u001b[0m\u001b[0;34m.\u001b[0m\u001b[0mengine\u001b[0m\u001b[0;34m)\u001b[0m\u001b[0;34m\u001b[0m\u001b[0;34m\u001b[0m\u001b[0m\n\u001b[0m\u001b[1;32m   1621\u001b[0m \u001b[0;34m\u001b[0m\u001b[0m\n\u001b[1;32m   1622\u001b[0m     \u001b[0;32mdef\u001b[0m \u001b[0mclose\u001b[0m\u001b[0;34m(\u001b[0m\u001b[0mself\u001b[0m\u001b[0;34m)\u001b[0m \u001b[0;34m->\u001b[0m \u001b[0;32mNone\u001b[0m\u001b[0;34m:\u001b[0m\u001b[0;34m\u001b[0m\u001b[0;34m\u001b[0m\u001b[0m\n",
            "\u001b[0;32m/usr/local/lib/python3.11/dist-packages/pandas/io/parsers/readers.py\u001b[0m in \u001b[0;36m_make_engine\u001b[0;34m(self, f, engine)\u001b[0m\n\u001b[1;32m   1878\u001b[0m                 \u001b[0;32mif\u001b[0m \u001b[0;34m\"b\"\u001b[0m \u001b[0;32mnot\u001b[0m \u001b[0;32min\u001b[0m \u001b[0mmode\u001b[0m\u001b[0;34m:\u001b[0m\u001b[0;34m\u001b[0m\u001b[0;34m\u001b[0m\u001b[0m\n\u001b[1;32m   1879\u001b[0m                     \u001b[0mmode\u001b[0m \u001b[0;34m+=\u001b[0m \u001b[0;34m\"b\"\u001b[0m\u001b[0;34m\u001b[0m\u001b[0;34m\u001b[0m\u001b[0m\n\u001b[0;32m-> 1880\u001b[0;31m             self.handles = get_handle(\n\u001b[0m\u001b[1;32m   1881\u001b[0m                 \u001b[0mf\u001b[0m\u001b[0;34m,\u001b[0m\u001b[0;34m\u001b[0m\u001b[0;34m\u001b[0m\u001b[0m\n\u001b[1;32m   1882\u001b[0m                 \u001b[0mmode\u001b[0m\u001b[0;34m,\u001b[0m\u001b[0;34m\u001b[0m\u001b[0;34m\u001b[0m\u001b[0m\n",
            "\u001b[0;32m/usr/local/lib/python3.11/dist-packages/pandas/io/common.py\u001b[0m in \u001b[0;36mget_handle\u001b[0;34m(path_or_buf, mode, encoding, compression, memory_map, is_text, errors, storage_options)\u001b[0m\n\u001b[1;32m    871\u001b[0m         \u001b[0;32mif\u001b[0m \u001b[0mioargs\u001b[0m\u001b[0;34m.\u001b[0m\u001b[0mencoding\u001b[0m \u001b[0;32mand\u001b[0m \u001b[0;34m\"b\"\u001b[0m \u001b[0;32mnot\u001b[0m \u001b[0;32min\u001b[0m \u001b[0mioargs\u001b[0m\u001b[0;34m.\u001b[0m\u001b[0mmode\u001b[0m\u001b[0;34m:\u001b[0m\u001b[0;34m\u001b[0m\u001b[0;34m\u001b[0m\u001b[0m\n\u001b[1;32m    872\u001b[0m             \u001b[0;31m# Encoding\u001b[0m\u001b[0;34m\u001b[0m\u001b[0;34m\u001b[0m\u001b[0m\n\u001b[0;32m--> 873\u001b[0;31m             handle = open(\n\u001b[0m\u001b[1;32m    874\u001b[0m                 \u001b[0mhandle\u001b[0m\u001b[0;34m,\u001b[0m\u001b[0;34m\u001b[0m\u001b[0;34m\u001b[0m\u001b[0m\n\u001b[1;32m    875\u001b[0m                 \u001b[0mioargs\u001b[0m\u001b[0;34m.\u001b[0m\u001b[0mmode\u001b[0m\u001b[0;34m,\u001b[0m\u001b[0;34m\u001b[0m\u001b[0;34m\u001b[0m\u001b[0m\n",
            "\u001b[0;31mFileNotFoundError\u001b[0m: [Errno 2] No such file or directory: '/content/MMASH/DataPaper/user_1/sleep.csv'"
          ]
        }
      ],
      "source": [
        "# tasks = [i for i in TASKS if i not in OMIT_TASKS]\n",
        "tasks = [i for i in TASKS]\n",
        "mmash = MMASH(tasks, max_zscore=2.5)"
      ]
    },
    {
      "cell_type": "markdown",
      "metadata": {
        "id": "mRM3lVxCtgET"
      },
      "source": [
        "# PhysioMTL Model Definition"
      ]
    },
    {
      "cell_type": "code",
      "execution_count": 96,
      "metadata": {
        "id": "eGEs1vW3te4i"
      },
      "outputs": [],
      "source": [
        "T_GRADIENT_THRESHOLD = 1e-8\n",
        "W_GRADIENT_THRESHOLD = 1e-7\n",
        "COST_FUNC = lambda x, y: np.sqrt(np.mean(np.square(np.dot([1, 10., 1., 10, 1., 1.], x - y))))"
      ]
    },
    {
      "cell_type": "code",
      "execution_count": 97,
      "metadata": {
        "id": "bLLSwdjSte63"
      },
      "outputs": [],
      "source": [
        "T_GRADIENT_THRESHOLD = 1e-8\n",
        "W_GRADIENT_THRESHOLD = 1e-7\n",
        "random.seed(1)\n",
        "COST_FUNC = lambda x, y: np.sqrt(np.mean(np.square(np.dot([1, 10., 1., 10, 1., 1.], x - y))))\n",
        "class PhysioMTL:\n",
        "    def __init__(self, cost_func, iterations=50, t_learn_rate=0.09, t_iterations=200, w_learn_rate=1e-7, w_iterations=50, alpha=0.1, epsilon=1e-4, lambda_=5, sigma=10, verbose=False):\n",
        "        self.cost_func = cost_func\n",
        "        self.iterations = iterations\n",
        "        self.t_learn_rate = t_learn_rate\n",
        "        self.t_iterations = t_iterations\n",
        "        self.w_learn_rate = w_learn_rate\n",
        "        self.w_iterations = w_iterations\n",
        "        self.alpha = alpha\n",
        "        self.epsilon = epsilon\n",
        "        self.lambda_ = lambda_\n",
        "        self.sigma = sigma\n",
        "        self.verbose = verbose\n",
        "\n",
        "    def fit(self, X, S, Y):\n",
        "        self.start_fit_cycles = count()\n",
        "        self.S = S\n",
        "        W = self.solve_w_by_linear_regression(X, Y)\n",
        "        C, K = self.get_cost_matrix(S)\n",
        "        Pi = self.solve_ot_plan(C)\n",
        "        self.coef_ = self.W, self.T = self.converge_fw_gradient_descent(X, Y, W, K, Pi)\n",
        "        self.end_fit_cycles = count_end() - self.start_fit_cycles\n",
        "        if self.verbose:\n",
        "          print(f'PhysioMTL fit completed in {self.end_fit_cycles} cycles ({get_cpu_seconds(self.end_fit_cycles)} seconds)')\n",
        "\n",
        "    def solve_w_by_linear_regression(self, X, Y):\n",
        "        # print(f'============== x shape is {X.shape}')\n",
        "        # print(f'============== Y shape is {Y.shape}')\n",
        "        return np.concatenate([Y[i].T @ x @ np.linalg.inv(x.T @ x) for i, x in enumerate(X)]).T\n",
        "\n",
        "    def get_cost_matrix(self, S):\n",
        "        C = np.asarray([[self.cost_func(i, j) for j in S] for i in self.S])\n",
        "        K = np.exp(-C / (2 * self.sigma**2))\n",
        "        return C, K\n",
        "\n",
        "    def solve_ot_plan(self, C):\n",
        "        T = len(C)\n",
        "        fracs = np.ones(T) / T\n",
        "        transport_matrix = np.exp(-self.lambda_ * C)\n",
        "        transport_matrix /= transport_matrix.sum()\n",
        "        u = np.zeros(T)\n",
        "        while np.max(np.abs(u - transport_matrix.sum(1))) > self.epsilon:\n",
        "            u = transport_matrix.sum(1)\n",
        "            transport_matrix *= fracs / u[:, None]\n",
        "            transport_matrix *= fracs / transport_matrix.sum(0)[None, :]\n",
        "        return transport_matrix\n",
        "\n",
        "    def converge_fw_gradient_descent(self, X, Y, W, K, Pi):\n",
        "        N = len(X)\n",
        "        Z = np.zeros((W.shape[0], K.shape[0]))\n",
        "        T = np.zeros((W.shape[0], K.shape[0]))\n",
        "        for iteration in range(self.iterations):\n",
        "            norm_last = 1e6\n",
        "            for t in range(self.t_iterations):\n",
        "                grad = [Pi[i, j] * (W[:, i:i+1] - T @ K[:, j:j+1]) @ K[:, j:j+1].T for i in range(N) for j in range(N)]\n",
        "                grad = Z - self.alpha * 2 * sum(grad)\n",
        "                norm = np.sum(np.square(grad))\n",
        "                if np.abs(norm_last - norm) < T_GRADIENT_THRESHOLD:\n",
        "                    break\n",
        "                norm_last = norm\n",
        "                T = T - self.t_learn_rate * grad\n",
        "            #print(iteration, \": T gradient F-norm:\", norm)\n",
        "\n",
        "            norm_last = 1e6\n",
        "            for w in range(self.w_iterations):\n",
        "                grad = np.zeros_like(W)\n",
        "                for t in range(N):\n",
        "                    grad[:, t:t+1] = ((W[:, t:t+1].T @ X[t].T - Y[t].T) @ (X[t]) - self.alpha * sum([(T @ K[:, tt:tt+1] - W[:, tt:tt + 1]).T for tt in range(N)])).T\n",
        "                norm = np.sum(np.square(grad))\n",
        "                if np.abs(norm_last - norm) < W_GRADIENT_THRESHOLD:\n",
        "                    break\n",
        "                norm_last = norm\n",
        "                W = W - self.w_learn_rate * grad\n",
        "        return W, T\n",
        "\n",
        "    def predict(self, X, S):\n",
        "        self.start_predict_cycles = count()\n",
        "        if X is None and S is None:\n",
        "            return [x @ self.W[:, i:i+1] for i, x in enumerate(self.X)]\n",
        "\n",
        "        _, K = self.get_cost_matrix(S)\n",
        "        K = [K[:, i:i+1] for i in range(len(S))]\n",
        "        self.end_predict_cycles = count_end() - self.start_predict_cycles\n",
        "        if self.verbose:\n",
        "            print(f'PhysioMTL predict completed in {self.end_predict_cycles} cycles ({get_cpu_seconds(self.end_predict_cycles)} seconds)')\n",
        "\n",
        "        return [x @ self.T @ K[i] for i, x in enumerate(X)]"
      ]
    },
    {
      "cell_type": "markdown",
      "metadata": {
        "id": "i1mxMCNqtmw9"
      },
      "source": [
        "## Train the model"
      ]
    },
    {
      "cell_type": "code",
      "execution_count": 98,
      "metadata": {
        "colab": {
          "base_uri": "https://localhost:8080/"
        },
        "id": "XvaNFsrltZu2",
        "outputId": "4e9ae257-4784-45aa-82f0-13292efaa255"
      },
      "outputs": [
        {
          "output_type": "stream",
          "name": "stdout",
          "text": [
            "PhysioMTL fit completed in 92709142380 cycles (46.35457119 seconds)\n"
          ]
        }
      ],
      "source": [
        "\n",
        "model = PhysioMTL(COST_FUNC, verbose=True)\n",
        "model.fit(mmash.X, mmash.S, mmash.Y)"
      ]
    },
    {
      "cell_type": "markdown",
      "metadata": {
        "id": "xFgDXEyitqyw"
      },
      "source": [
        "## Sample PhysioMTL Prediction"
      ]
    },
    {
      "cell_type": "code",
      "execution_count": 11,
      "metadata": {
        "colab": {
          "base_uri": "https://localhost:8080/",
          "height": 503
        },
        "id": "i59ywicYto6c",
        "outputId": "a27bceca-c53c-4e8a-bdac-350e2faca401"
      },
      "outputs": [
        {
          "output_type": "stream",
          "name": "stdout",
          "text": [
            "PhysioMTL predict completed in 1299812 cycles (0.000649906 seconds)\n"
          ]
        },
        {
          "output_type": "execute_result",
          "data": {
            "text/plain": [
              "[<matplotlib.lines.Line2D at 0x7a5422861950>]"
            ]
          },
          "metadata": {},
          "execution_count": 11
        },
        {
          "output_type": "display_data",
          "data": {
            "text/plain": [
              "<Figure size 640x480 with 1 Axes>"
            ],
            "image/png": "[encoded data removed]"
          },
          "metadata": {}
        }
      ],
      "source": [
        "S_ = np.array([23., 1.80, 85., 1., 7., 20.]).reshape(-1, 1)\n",
        "\n",
        "T_ = np.linspace(8, 36, 30)\n",
        "X_ = np.asarray([np.sin(RAD_HOUR * T_), np.cos(RAD_HOUR * T_), np.ones(30, )]).T\n",
        "\n",
        "_, ax = plt.subplots()\n",
        "\n",
        "ticks = [[9, '9:00'], [12, '12:00'], [15, '15:00'], [18, '18:00'], [21, '21:00'], [24, '24:00'], [27, '3:00'], [30, '6:00'], [33, '9:00'], [36, '12:00']]\n",
        "ax.set_xticks([x[0] for x in ticks])\n",
        "ax.set_xticklabels([x[1] for x in ticks], rotation=30)\n",
        "ax.set_ylabel(\"HRV\")\n",
        "ax.set_xlabel(\"Time\")\n",
        "\n",
        "ax.plot(T_, model.predict([X_], [S_])[0])\n"
      ]
    },
    {
      "cell_type": "markdown",
      "metadata": {
        "id": "Dl37Y4tptu1G"
      },
      "source": [
        "# Model Performance"
      ]
    },
    {
      "cell_type": "markdown",
      "metadata": {
        "id": "Q4t4kd6jtxXV"
      },
      "source": [
        "## Evaluation Methods"
      ]
    },
    {
      "cell_type": "code",
      "execution_count": 12,
      "metadata": {
        "id": "lpB0fB-pttUv"
      },
      "outputs": [],
      "source": [
        "def evaluate_all_percentages(X, S, Y, percentages, compare_alpha=0.9, physio_alpha=0.1, iterations=20, cost_func=COST_FUNC):\n",
        "    for p in percentages:\n",
        "        start_evaluation_time = count()\n",
        "        evaluate_all(X, S, Y, p, compare_alpha, physio_alpha, iterations, cost_func)\n",
        "        end_evaluation_time = count_end() - start_evaluation_time\n",
        "        print('    Evaluation:')\n",
        "        print(f'         iterations: {iterations}')\n",
        "        print(f'         elapsed time: {end_evaluation_time} cycles ({get_cpu_seconds(end_evaluation_time)} seconds)')\n",
        "        print('')\n",
        "\n",
        "def evaluate_all(X, S, Y, percentage, compare_alpha, physio_alpha, iterations, cost_func):\n",
        "    mse_physio = []\n",
        "    mse_glasso = []\n",
        "    mse_mlasso = []\n",
        "    mse_dirty = []\n",
        "    mse_mtw = []\n",
        "    mse_remtw = []\n",
        "\n",
        "    for _ in range(iterations):\n",
        "        cutoff = int(percentage * len(S))\n",
        "        idx = list(range(0, len(S)))\n",
        "        random.shuffle(idx, random_state = 1)\n",
        "        train_index, test_index = idx[:cutoff], idx[cutoff:]\n",
        "        # print(f's is {len(S)}, cutoff is {cutoff}, idx is {idx}, train_index is {train_index}')\n",
        "        X_train = [X[i] for i in train_index]\n",
        "        S_train = [S[i] for i in train_index]\n",
        "        Y_train = [Y[i] for i in train_index]\n",
        "        X_test = [X[i] for i in test_index]\n",
        "        S_test = [S[i] for i in test_index]\n",
        "        Y_test = [Y[i] for i in test_index]\n",
        "\n",
        "        if physio_alpha:\n",
        "            model = PhysioMTL(cost_func, alpha=physio_alpha, verbose=False)\n",
        "            model.fit(np.asarray(X_train, dtype=object), np.asarray(S_train,dtype=object), np.asarray(Y_train, dtype=object))\n",
        "            preds = model.predict(np.asarray(X_test, dtype=object), np.asarray(S_test, dtype=object))\n",
        "            mse_physio.append(get_rmse(preds, np.asarray(Y_test,dtype=object)))\n",
        "\n",
        "        x = np.zeros((len(X_train), 100, 3 + 6))\n",
        "        y = np.zeros((len(X_train), 100))\n",
        "        for i, s in enumerate(S_train):\n",
        "            idx = list(range(0, X_train[i].shape[0]))\n",
        "            random.shuffle(idx)\n",
        "            x[i:i+1, :, 0:3] = X_train[i][idx[:100]]\n",
        "            y[i:i+1, :] = Y_train[i][idx[:100]].reshape((1, -1))\n",
        "            x[i:i+1, :, 3:] = s.reshape((1, -1))\n",
        "\n",
        "        if compare_alpha:\n",
        "            grouplasso_mse = get_mse(GroupLasso(alpha=compare_alpha), x, y, S_train, X_test, S_test, Y_test, cost_func)\n",
        "            mllasso_mse = get_mse(MultiLevelLasso(alpha=compare_alpha), x, y, S_train, X_test, S_test, Y_test, cost_func)\n",
        "            dirty_mse = get_mse(DirtyModel(alpha=compare_alpha), x, y, S_train, X_test, S_test, Y_test, cost_func)\n",
        "            mtw_mse = get_mse(MTW(alpha=compare_alpha), x, y, S_train, X_test, S_test, Y_test, cost_func)\n",
        "            remtw_mse = get_mse(ReMTW(alpha=compare_alpha), x, y, S_train, X_test, S_test, Y_test, cost_func)\n",
        "\n",
        "            mse_glasso.append(grouplasso_mse)\n",
        "            mse_mlasso.append(mllasso_mse)\n",
        "            mse_dirty.append(dirty_mse)\n",
        "            mse_mtw.append(mtw_mse)\n",
        "            mse_remtw.append(remtw_mse)\n",
        "\n",
        "    print(f'{percentage*100}% (alpha {compare_alpha} vs {physio_alpha})')\n",
        "    if compare_alpha:\n",
        "        print(f'    Group Lasso:  {np.mean(mse_glasso)} ± {np.std(mse_glasso)}')\n",
        "        print(f'    MLevel Lasso: {np.mean(mse_mlasso)} ± {np.std(mse_mlasso)}')\n",
        "        print(f'    Dirty Model:  {np.mean(mse_dirty)} ± {np.std(mse_dirty)}')\n",
        "        print(f'    MT Was:       {np.mean(mse_mtw)} ± {np.std(mse_mtw)}')\n",
        "        print(f'    MT Was Rewgt: {np.mean(mse_remtw)} ± {np.std(mse_remtw)}')\n",
        "    if physio_alpha:\n",
        "        print(f'    PhysioMTL:    {np.mean(mse_physio)} ± {np.std(mse_physio)}')\n",
        "\n",
        "def get_rmse(a, b):\n",
        "    return sum([np.sqrt(np.mean(np.square(a[i] - b[i]))) for i in range(len(a))]) / len(a)\n",
        "\n",
        "def get_mse(model, X_train, Y_train, S_train, X_test, S_test, Y_test, cost_func):\n",
        "    model.fit(X_train, Y_train)\n",
        "    y = []\n",
        "    for i, s_test in enumerate(S_test):\n",
        "        idx = []\n",
        "        for _, top_cost in sorted((cost_func(s, s_test), s) for s in S_train)[:1]:\n",
        "            for j, s_train in enumerate(S_train):\n",
        "                if np.max(s_train - top_cost) < 1e-6:\n",
        "                    idx.append(j)\n",
        "                    break\n",
        "\n",
        "        X = np.zeros((len(X_test[i]), 9))\n",
        "        X[:, 0:3] = X_test[i]\n",
        "        X[:, 3:] = s_test.reshape((1, -1))\n",
        "        y.append(X @ model.coef_[:, idx] + np.median(Y_train))\n",
        "\n",
        "    return get_rmse(y, Y_test)"
      ]
    },
    {
      "cell_type": "markdown",
      "metadata": {
        "id": "Ou2xmHsXt0Mh"
      },
      "source": [
        "## Original Evaluation"
      ]
    },
    {
      "cell_type": "code",
      "execution_count": 13,
      "metadata": {
        "colab": {
          "base_uri": "https://localhost:8080/"
        },
        "id": "au4Et1ZWt1hF",
        "outputId": "c7375cc9-3194-4deb-b48e-22d9bdf4d578"
      },
      "outputs": [
        {
          "output_type": "stream",
          "name": "stdout",
          "text": [
            "20.0% (alpha 0.9 vs 0.1)\n",
            "    Group Lasso:  30.648854254516458 ± 1.3219324333565083\n",
            "    MLevel Lasso: 30.760591985029247 ± 1.3142106001985276\n",
            "    Dirty Model:  30.648518354733188 ± 1.3220377442570375\n",
            "    MT Was:       30.359820200895815 ± 1.398051663056437\n",
            "    MT Was Rewgt: 30.374806834837294 ± 1.3967952628920837\n",
            "    PhysioMTL:    30.037247756231476 ± 1.248308377185828\n",
            "    Evaluation:\n",
            "         iterations: 20\n",
            "         elapsed time: 102849075119 cycles (51.4245375595 seconds)\n",
            "\n",
            "40.0% (alpha 0.9 vs 0.1)\n",
            "    Group Lasso:  31.57532156553272 ± 1.7764778338083291\n",
            "    MLevel Lasso: 31.71045500464218 ± 1.8280015857268077\n",
            "    Dirty Model:  31.575323191502616 ± 1.7764853994086773\n",
            "    MT Was:       30.978113729530463 ± 1.658632045054093\n",
            "    MT Was Rewgt: 31.000688187209654 ± 1.6639599832803234\n",
            "    PhysioMTL:    30.48578270797667 ± 1.1653219163339237\n",
            "    Evaluation:\n",
            "         iterations: 20\n",
            "         elapsed time: 319467537932 cycles (159.733768966 seconds)\n",
            "\n",
            "60.0% (alpha 0.9 vs 0.1)\n",
            "    Group Lasso:  31.809227516887752 ± 2.2961878575564003\n",
            "    MLevel Lasso: 31.896071706254514 ± 2.3015580357698227\n",
            "    Dirty Model:  31.808471126534887 ± 2.2952706792129622\n",
            "    MT Was:       31.27177310017989 ± 2.2232140804380824\n",
            "    MT Was Rewgt: 31.294649931210763 ± 2.2259331572155174\n",
            "    PhysioMTL:    30.050036740416687 ± 1.486848257050278\n",
            "    Evaluation:\n",
            "         iterations: 20\n",
            "         elapsed time: 677770809364 cycles (338.885404682 seconds)\n",
            "\n",
            "80.0% (alpha 0.9 vs 0.1)\n",
            "    Group Lasso:  31.740093106992504 ± 3.215832821573583\n",
            "    MLevel Lasso: 31.83965653817191 ± 3.2111930277335143\n",
            "    Dirty Model:  31.739966084627774 ± 3.215952569538693\n",
            "    MT Was:       31.050491555711783 ± 3.247930265973212\n",
            "    MT Was Rewgt: 31.07820574350212 ± 3.245622297832751\n",
            "    PhysioMTL:    30.00709604176392 ± 2.3662408244261304\n",
            "    Evaluation:\n",
            "         iterations: 20\n",
            "         elapsed time: 1177148620972 cycles (588.574310486 seconds)\n",
            "\n"
          ]
        }
      ],
      "source": [
        "evaluate_all_percentages(mmash.X, mmash.S, mmash.Y, percentages=[0.2, 0.4, 0.6, 0.8])"
      ]
    },
    {
      "cell_type": "markdown",
      "source": [
        "#Conterfactual Analysis"
      ],
      "metadata": {
        "id": "xE7HztZnAXrX"
      }
    },
    {
      "cell_type": "code",
      "source": [
        "import numpy as np\n",
        "import matplotlib.pyplot as plt\n",
        "\n",
        "RAD_HOUR = 2.0 * np.pi / 24\n",
        "T_ = np.linspace(8, 36, 30)\n",
        "X_ = np.asarray([np.sin(RAD_HOUR * T_), np.cos(RAD_HOUR * T_), np.ones(30)]).T\n",
        "\n",
        "# Baseline demographic vector (you can change to any subject)\n",
        "S_baseline = np.array([27, 180, 75, 1, 7, 2.0]).reshape(-1, 1)\n",
        "\n",
        "# Attributes to vary: (index, name, values)\n",
        "demographic_variations = [\n",
        "    (0, \"Age\", [20, 27, 40]),\n",
        "    (1, \"Height\", [160, 180, 200]),\n",
        "    (2, \"Weight\", [60, 75, 90]),\n",
        "    (3, \"Sex\", [0, 1]),  # 0 = female, 1 = male\n",
        "    (4, \"Sleep (hrs)\", [5, 7, 9]),\n",
        "    (5, \"Alcohol (units)\", [0.0, 2.0, 4.0]),\n",
        "]\n",
        "\n",
        "# Plot setup\n",
        "fig, axs = plt.subplots(2, 3, figsize=(18, 10))\n",
        "axs = axs.flatten()\n",
        "\n",
        "for idx, (attr_idx, attr_name, values) in enumerate(demographic_variations):\n",
        "    ax = axs[idx]\n",
        "    for v in values:\n",
        "        S_var = S_baseline.copy()\n",
        "        S_var[attr_idx, 0] = v\n",
        "        y_pred = model.predict([X_], [S_var])[0]\n",
        "        ax.plot(T_, y_pred, label=f\"{attr_name}={v}\")\n",
        "    ax.set_title(f\"Counterfactual: {attr_name}\")\n",
        "    ax.set_xlabel(\"Time of Day\")\n",
        "    ax.set_ylabel(\"Predicted HRV\")\n",
        "    ax.legend()\n",
        "    ax.grid(True)\n",
        "\n",
        "plt.tight_layout()\n",
        "plt.suptitle(\"PhysioMTL Counterfactual Simulations by Demographic Factors\", fontsize=16, y=1.02)\n",
        "plt.show()\n"
      ],
      "metadata": {
        "id": "ufe1J2efAaKL"
      },
      "execution_count": null,
      "outputs": []
    },
    {
      "cell_type": "markdown",
      "metadata": {
        "id": "rdtaAbeSHQB-"
      },
      "source": [
        "## Enhance interpretability using Attention and SHAP"
      ]
    },
    {
      "cell_type": "code",
      "source": [
        "np.array([mmash.Y[0]]).shape"
      ],
      "metadata": {
        "colab": {
          "base_uri": "https://localhost:8080/"
        },
        "id": "3oaicoDbQcHy",
        "outputId": "3f10a4c2-a226-4a48-d1b3-9b81b8fc14db"
      },
      "execution_count": 33,
      "outputs": [
        {
          "output_type": "execute_result",
          "data": {
            "text/plain": [
              "(1, 226, 1)"
            ]
          },
          "metadata": {},
          "execution_count": 33
        }
      ]
    },
    {
      "cell_type": "code",
      "execution_count": 46,
      "metadata": {
        "id": "Hy8OyObmHZEA",
        "colab": {
          "base_uri": "https://localhost:8080/",
          "height": 1000
        },
        "outputId": "cfcc8ae2-5cd8-4fa0-bc2f-3da3f7659f30"
      },
      "outputs": [
        {
          "output_type": "stream",
          "name": "stdout",
          "text": [
            "[[[29.0]\n",
            "  [1.69]\n",
            "  [65.0]\n",
            "  [0.3333333333333333]\n",
            "  [6.3]\n",
            "  [23.0]]]\n",
            "[[[29.0]\n",
            "  [1.69]\n",
            "  [65.0]\n",
            "  [0.3333333333333333]\n",
            "  [4.0]\n",
            "  [23.0]]]\n",
            "PhysioMTL predict completed in 1781650 cycles (0.000890825 seconds)\n",
            "PhysioMTL predict completed in 1676713 cycles (0.0008383565 seconds)\n",
            "(1, 226, 3)\n",
            "PhysioMTL predict completed in 1702779 cycles (0.0008513895 seconds)\n",
            "here is the preds [83.85746823263011 83.63687926791887 83.38513564814171 83.12472448167493\n",
            " 82.86565821531966 82.60975801927773 82.3431813398046 82.09552054841407\n",
            " 81.83477523772848 81.57359354925572 81.31823578932975 80.79792925585565\n",
            " 80.5426910009972 80.02559664301643 79.77157200147822 79.5169401123931\n",
            " 79.267363843066 78.77199292463166 78.51704468764602 78.27499718274245\n",
            " 78.02871504517466 77.5451204308227 77.30599590030323 77.07442834924919\n",
            " 76.83983634968668 76.60489813862164 76.37875143203794 76.152504665502\n",
            " 75.9289300917413 75.7084856958417 75.48311052662149 75.27649209717516\n",
            " 75.05991066631276 74.86066450011943 74.65996845688173 74.45169865466889\n",
            " 74.25562282534281 74.06562947700526 73.6949947217822 73.3338805485508\n",
            " 73.15910324435627 72.99089347740397 72.82626760813564 72.50959289305125\n",
            " 72.21285070123837 71.3250097695743 71.21979093202292 71.01768744748271\n",
            " 70.7603245940229 70.61512710182159 70.55061058906134 70.49223030497691\n",
            " 70.4387532014362 70.391107301634 70.34883111455567 70.28111459582162\n",
            " 70.25553116497134 70.23537097522002 70.21260536338549 70.20962619240993\n",
            " 70.2123803899676 70.22058753181626 70.23463391844528 70.25445347945089\n",
            " 70.27991673549428 70.31060062805372 70.34723415884348 70.38916716276246\n",
            " 70.43589215463429 70.49019398227767 70.54951157861193 70.61304906475053\n",
            " 70.68337076956125 70.75705283278424 70.83714883268878 70.92291419481501\n",
            " 71.01493302019702 71.11030102484982 71.2130098481977 71.32008148746971\n",
            " 71.43246627072806 71.55071464832653 71.66995089553727 71.80037179307172\n",
            " 71.93137557670224 72.06316993853251 72.20835366299914 72.35493401058292\n",
            " 72.50770516177455 72.65896010859869 72.82299213709388 72.98621972984324\n",
            " 73.15460150224776 73.32527624890533 73.50258284351152 73.68138176911614\n",
            " 73.86605388139553 74.05866046335676 74.24760379081593 74.44966019787078\n",
            " 74.6467913394717 75.26746384470337 75.47817837977402 75.69780648470832\n",
            " 76.13713458990647 76.36775261412355 76.59574171067905 77.064577658625\n",
            " 77.29553820068418 77.53686591445124 77.77677649519565 78.02519534218861\n",
            " 78.26510279610625 78.50757157369203 78.75614088734724 79.25460503996301\n",
            " 80.2696989791825 80.52798235466697 81.04656578748421 81.58364870477578\n",
            " 81.81840945042231 82.85258245589225 83.36804727150323 83.63079379725811\n",
            " 83.88763155119798 84.14503766848108 84.39831674752429 84.65218848570373\n",
            " 84.89304929735185 85.89318721138358 86.3838106830751 86.62528984825865\n",
            " 86.86397168221744 87.09822626794892 87.32603826059632 87.57177227283891\n",
            " 87.7870172050831 88.01718642276074 88.23791623553149 88.46210054793548\n",
            " 88.67714905041882 88.88636969410982 89.09750360629961 89.30803374945035\n",
            " 89.51352762546954 90.10541339264815 90.29428211242829 90.48036633631021\n",
            " 90.66018842522742 90.83836447940844 91.00894021125532 91.17763287499213\n",
            " 91.34200437476379 91.50134194075358 91.80759978235268 91.95692332417067\n",
            " 92.09902909065775 92.23535840018779 92.49310196320486 92.61480148916382\n",
            " 92.73220473309539 92.84468561907775 92.9530211386924 93.05585439921546\n",
            " 93.14954133554761 93.23379318352741 93.40915525945744 93.48115395945453\n",
            " 93.5533548372686 93.61782733208732 93.6664847150725 93.73534439449305\n",
            " 93.77914011929192 93.82120382316323 93.85836942049099 93.88934326153088\n",
            " 93.9148211596224 93.93442580676164 93.94857309483137 93.95729093306628\n",
            " 93.96028066991788 93.95757711967651 93.94915351732364 93.9350755782915\n",
            " 93.91529195290121 93.8902648329594 93.8593267496399 93.82274107222565\n",
            " 93.73372963383639 93.68041333376755 93.55686578292996 93.48752553061647\n",
            " 93.41186791271832 93.33020093633834 93.24673859457546 93.15437609047241\n",
            " 93.05805147244773 92.95799088497948 92.85136595328366 92.737978073081\n",
            " 92.62177058302846 92.498195666593 92.37191660186186 92.2406715654652\n",
            " 92.10115065118362 91.9610705921967 91.81637248931432 91.51140290639512\n",
            " 91.1862922632924 90.84209040836981 90.66666387778818 90.48376888562193\n",
            " 90.29946919243758 90.1082309421531 89.9293592791596 89.26168504209075\n",
            " 89.10906667519998 88.68730495851045 88.4705406945285 88.25265677473313\n",
            " 88.0242468708947 87.57535813316365 86.86930929081848 85.65982203916208\n",
            " 85.41421082209423 85.27701810685495]\n"
          ]
        },
        {
          "output_type": "error",
          "ename": "AttributeError",
          "evalue": "'float' object has no attribute 'shape'",
          "traceback": [
            "\u001b[0;31m---------------------------------------------------------------------------\u001b[0m",
            "\u001b[0;31mAttributeError\u001b[0m                            Traceback (most recent call last)",
            "\u001b[0;32m<ipython-input-46-45378774c34a>\u001b[0m in \u001b[0;36m<cell line: 0>\u001b[0;34m()\u001b[0m\n\u001b[1;32m     61\u001b[0m \u001b[0;31m# Explainers\u001b[0m\u001b[0;34m\u001b[0m\u001b[0;34m\u001b[0m\u001b[0m\n\u001b[1;32m     62\u001b[0m \u001b[0mprint\u001b[0m\u001b[0;34m(\u001b[0m\u001b[0mX_\u001b[0m\u001b[0;34m.\u001b[0m\u001b[0mshape\u001b[0m\u001b[0;34m)\u001b[0m\u001b[0;34m\u001b[0m\u001b[0;34m\u001b[0m\u001b[0m\n\u001b[0;32m---> 63\u001b[0;31m \u001b[0mexplainer_orig\u001b[0m \u001b[0;34m=\u001b[0m \u001b[0mshap\u001b[0m\u001b[0;34m.\u001b[0m\u001b[0mKernelExplainer\u001b[0m\u001b[0;34m(\u001b[0m\u001b[0mPhysioMTLWrapper\u001b[0m\u001b[0;34m(\u001b[0m\u001b[0mmodel\u001b[0m\u001b[0;34m,\u001b[0m \u001b[0mS_original\u001b[0m\u001b[0;34m,\u001b[0m \u001b[0mX_\u001b[0m\u001b[0;34m)\u001b[0m\u001b[0;34m.\u001b[0m\u001b[0mpredict\u001b[0m\u001b[0;34m,\u001b[0m \u001b[0mX_\u001b[0m\u001b[0;34m)\u001b[0m\u001b[0;34m\u001b[0m\u001b[0;34m\u001b[0m\u001b[0m\n\u001b[0m\u001b[1;32m     64\u001b[0m \u001b[0mshap_values_orig\u001b[0m \u001b[0;34m=\u001b[0m \u001b[0mexplainer_orig\u001b[0m\u001b[0;34m.\u001b[0m\u001b[0mshap_values\u001b[0m\u001b[0;34m(\u001b[0m\u001b[0mX_\u001b[0m\u001b[0;34m)\u001b[0m\u001b[0;34m\u001b[0m\u001b[0;34m\u001b[0m\u001b[0m\n\u001b[1;32m     65\u001b[0m \u001b[0;34m\u001b[0m\u001b[0m\n",
            "\u001b[0;32m/usr/local/lib/python3.11/dist-packages/shap/explainers/_kernel.py\u001b[0m in \u001b[0;36m__init__\u001b[0;34m(self, model, data, feature_names, link, **kwargs)\u001b[0m\n\u001b[1;32m    134\u001b[0m         \u001b[0;31m# see if we have a vector output\u001b[0m\u001b[0;34m\u001b[0m\u001b[0;34m\u001b[0m\u001b[0m\n\u001b[1;32m    135\u001b[0m         \u001b[0mself\u001b[0m\u001b[0;34m.\u001b[0m\u001b[0mvector_out\u001b[0m \u001b[0;34m=\u001b[0m \u001b[0;32mTrue\u001b[0m\u001b[0;34m\u001b[0m\u001b[0;34m\u001b[0m\u001b[0m\n\u001b[0;32m--> 136\u001b[0;31m         \u001b[0;32mif\u001b[0m \u001b[0mlen\u001b[0m\u001b[0;34m(\u001b[0m\u001b[0mself\u001b[0m\u001b[0;34m.\u001b[0m\u001b[0mfnull\u001b[0m\u001b[0;34m.\u001b[0m\u001b[0mshape\u001b[0m\u001b[0;34m)\u001b[0m \u001b[0;34m==\u001b[0m \u001b[0;36m0\u001b[0m\u001b[0;34m:\u001b[0m\u001b[0;34m\u001b[0m\u001b[0;34m\u001b[0m\u001b[0m\n\u001b[0m\u001b[1;32m    137\u001b[0m             \u001b[0mself\u001b[0m\u001b[0;34m.\u001b[0m\u001b[0mvector_out\u001b[0m \u001b[0;34m=\u001b[0m \u001b[0;32mFalse\u001b[0m\u001b[0;34m\u001b[0m\u001b[0;34m\u001b[0m\u001b[0m\n\u001b[1;32m    138\u001b[0m             \u001b[0mself\u001b[0m\u001b[0;34m.\u001b[0m\u001b[0mfnull\u001b[0m \u001b[0;34m=\u001b[0m \u001b[0mnp\u001b[0m\u001b[0;34m.\u001b[0m\u001b[0marray\u001b[0m\u001b[0;34m(\u001b[0m\u001b[0;34m[\u001b[0m\u001b[0mself\u001b[0m\u001b[0;34m.\u001b[0m\u001b[0mfnull\u001b[0m\u001b[0;34m]\u001b[0m\u001b[0;34m)\u001b[0m\u001b[0;34m\u001b[0m\u001b[0;34m\u001b[0m\u001b[0m\n",
            "\u001b[0;31mAttributeError\u001b[0m: 'float' object has no attribute 'shape'"
          ]
        }
      ],
      "source": [
        "import numpy as np\n",
        "import matplotlib.pyplot as plt\n",
        "import shap\n",
        "\n",
        "# --------------------------\n",
        "# Assume your PhysioMTL model is already loaded and trained: model\n",
        "# Assume RAD_HOUR = np.pi / 12 (since 24 hours → 2π rad)\n",
        "RAD_HOUR = 2.0 * np.pi / 24\n",
        "\n",
        "# 1. Define input X_ (sin, cos, constant over time)\n",
        "T_ = np.linspace(8, 36, 30)  # 30 time points from 8 AM to 12 PM next day\n",
        "# X_ = np.asarray([\n",
        "#     np.sin(RAD_HOUR * T_),\n",
        "#     np.cos(RAD_HOUR * T_),\n",
        "#     np.ones(30,)\n",
        "# ]).T  # shape (30, 3)\n",
        "X_ = np.asarray([mmash.X[0]], dtype=object)\n",
        "\n",
        "\n",
        "# 2. Define original and counterfactual demographics S\n",
        "# [age, height (m), weight (kg), sex (1=male, 0=female), sleep hours, alcohol consumption units]\n",
        "S_original = np.asarray([mmash.S[0]], dtype=object)  # 7h sleep\n",
        "print(S_original)\n",
        "S_counterfactual = S_original.copy()\n",
        "S_counterfactual[0, 4, 0] = 4.  # Less sleep: 4h\n",
        "print(S_counterfactual\n",
        "      )\n",
        "# 3. Predict original and counterfactual HRV curves\n",
        "y_original = model.predict([X_], [S_original])[0]\n",
        "y_counterfactual = model.predict([X_], [S_counterfactual])[0]\n",
        "\n",
        "# print(y_original)\n",
        "# print(y_counterfactual)\n",
        "\n",
        "# --------------------------\n",
        "# 4. Get effective attention\n",
        "\n",
        "def get_effective_attention(model, S_batch):\n",
        "    _, K = model.get_cost_matrix(S_batch)\n",
        "    attention_vec = np.abs(model.T @ K)  # shape (3, 1)\n",
        "    attention_vec /= attention_vec.sum(axis=0, keepdims=True)  # normalize\n",
        "    return attention_vec\n",
        "\n",
        "attn_original = get_effective_attention(model, [S_original])\n",
        "attn_counterfactual = get_effective_attention(model, [S_counterfactual])\n",
        "\n",
        "# --------------------------\n",
        "# 5. Get SHAP values\n",
        "\n",
        "class PhysioMTLWrapper:\n",
        "    def __init__(self, model, S_input, X_batch):\n",
        "        self.model = model\n",
        "        self.S_input = S_input\n",
        "        self.X_input = X_batch\n",
        "\n",
        "    def predict(self, X_batch):\n",
        "        preds = self.model.predict(self.X_input, self.S_input)\n",
        "        print('here is the preds', np.array(preds[0]).flatten())\n",
        "        return np.array(preds[0]).flatten()\n",
        "\n",
        "# Explainers\n",
        "print(X_.shape)\n",
        "explainer_orig = shap.KernelExplainer(PhysioMTLWrapper(model, S_original).predict, X_)\n",
        "shap_values_orig = explainer_orig.shap_values(X_)\n",
        "\n",
        "explainer_cf = shap.KernelExplainer(PhysioMTLWrapper(model, S_counterfactual, X_).predict, X_)\n",
        "shap_values_cf = explainer_cf.shap_values(X_)\n",
        "\n",
        "# --------------------------\n",
        "# 6. Plot HRV curves\n",
        "\n",
        "fig, ax = plt.subplots(figsize=(10, 5))\n",
        "\n",
        "ticks = [[9, '9:00'], [12, '12:00'], [15, '15:00'], [18, '18:00'], [21, '21:00'],\n",
        "         [24, '24:00'], [27, '3:00'], [30, '6:00'], [33, '9:00'], [36, '12:00']]\n",
        "ax.set_xticks([x[0] for x in ticks])\n",
        "ax.set_xticklabels([x[1] for x in ticks], rotation=30)\n",
        "ax.set_ylabel(\"HRV\")\n",
        "ax.set_xlabel(\"Time\")\n",
        "\n",
        "ax.plot(T_, y_original, label=\"Original (7h sleep)\")\n",
        "ax.plot(T_, y_counterfactual, label=\"Counterfactual (4h sleep)\", linestyle=\"--\")\n",
        "\n",
        "ax.legend()\n",
        "plt.title(\"Counterfactual HRV Prediction (Sleep Reduction)\")\n",
        "plt.grid(True)\n",
        "plt.show()\n",
        "\n",
        "# --------------------------\n",
        "# 7. Plot Attention and SHAP differences\n",
        "\n",
        "feature_names = ['sin(time)', 'cos(time)', 'constant']\n",
        "\n",
        "def plot_attention_shap_change(attn_orig, attn_cf, shap_orig, shap_cf, feature_names):\n",
        "    fig, axs = plt.subplots(1, 2, figsize=(14, 5))\n",
        "\n",
        "    # Attention delta\n",
        "    attn_delta = (attn_cf - attn_orig).flatten()\n",
        "    axs[0].barh(feature_names, attn_delta)\n",
        "    axs[0].set_title(\"Attention Change (Counterfactual - Original)\")\n",
        "    axs[0].axvline(0, color='gray')\n",
        "\n",
        "    # SHAP delta\n",
        "    shap_orig_mean = np.abs(shap_orig).mean(axis=0)\n",
        "    shap_cf_mean = np.abs(shap_cf).mean(axis=0)\n",
        "    shap_delta = shap_cf_mean - shap_orig_mean\n",
        "    axs[1].barh(feature_names, shap_delta)\n",
        "    axs[1].set_title(\"SHAP Value Change (Counterfactual - Original)\")\n",
        "    axs[1].axvline(0, color='gray')\n",
        "\n",
        "    plt.tight_layout()\n",
        "    plt.show()\n",
        "\n",
        "# Call plot\n",
        "plot_attention_shap_change(attn_original, attn_counterfactual, shap_values_orig, shap_values_cf, feature_names)\n"
      ]
    },
    {
      "cell_type": "code",
      "source": [],
      "metadata": {
        "id": "_Hf9rRGGPwcN"
      },
      "execution_count": 34,
      "outputs": []
    }
  ],
  "metadata": {
    "colab": {
      "provenance": [],
      "collapsed_sections": [
        "xFgDXEyitqyw",
        "Q4t4kd6jtxXV"
      ],
      "authorship_tag": "ABX9TyNHg8oQNWCk1XWKgFFYyy1v",
      "include_colab_link": true
    },
    "kernelspec": {
      "display_name": "Python 3",
      "name": "python3"
    },
    "language_info": {
      "name": "python"
    }
  },
  "nbformat": 4,
  "nbformat_minor": 0
}